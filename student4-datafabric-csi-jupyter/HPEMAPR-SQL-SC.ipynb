{
 "cells": [
  {
   "cell_type": "markdown",
   "metadata": {},
   "source": [
    "<style type=\"text/css\" media=\"screen\">\n",
    "a:link { color:#FFFFFF; text-decoration: none; }\n",
    "a:visited { color:#FFFFFF; text-decoration: none; }\n",
    "a:hover { color:#FFFFFF; text-decoration: none; }\n",
    "a:active { color:#FFFFFF; text-decoration: underline; }\n",
    "</style>\n",
    "# <a id=\"sc\" style=\"text-decoration:none;\">HPE CSI Driver Data Fabric for Kubernetes</a>\n",
    "![](imgs/hpedevlogo.svg)\n",
    "<img src=\"imgs/mapr-ar21.gif\" alt=\"csi logo\" style=\"float: right;\">\n",
    "<img src=\"imgs/csilogo1.png\" alt=\"csi logo\" style=\"float: right;\">\n",
    "## How to deploy SQL Server 2019 with an Operator on Kubernetes Cluster\n",
    "\n",
    "Emmanuel COLUSSI – WW HPE Customer Innovation Center\n",
    "<br>\n",
    "<br>\n",
    "<br>\n",
    "<br>\n",
    "\n",
    "## Create A Storage Class\n",
    "A StorageClass provides a way for administrators to describe the <b>'classes'</b>of storage they offer.</br>Different classes might map to quality-of-service levels, or to backup policies, or to arbitrary policies determined by the cluster administrators. Kubernetes itself is unopinionated about what classes represent. This concept is sometimes called <b>'profiles'</b>i n other storage systems.</br>The supported StorageClass parameters are dictated by the MapR CSP from which the CSI Driver interacts with.</br>\n",
    "\n",
    "[MapR CSP](https://docs.datafabric.hpe.com/61/CSIdriver/csi_example_dynamic_provisioning.html)\n"
   ]
  },
  {
   "cell_type": "markdown",
   "metadata": {},
   "source": [
    "In our example we will deploy a storage class "
   ]
  },
  {
   "cell_type": "markdown",
   "metadata": {},
   "source": [
    "<link rel=\"stylesheet\" type=\"text/css\" href=\"css/bootstrap.min.css\">\n",
    "<link rel=\"stylesheet\" type=\"text/css\" href=\"css/fontawesome.min.css\">\n",
    "\n",
    "<table class=\"table\" style=\"font-size: 14px;\">\n",
    "  <tbody>\n",
    "    <tr>\n",
    "        <td><b>name:</b> </td> <td>Name of StorageClass</td>\n",
    "    </tr>\n",
    "    <tr>\n",
    "        <td><b>provisionner:</b></td><td> Each StorageClass has a provisioner that determines what volume plugin is used for provisioning PVs.In our case we use the plugin HPE CSI Driver</td>\n",
    "    </tr>\n",
    "       <tr>\n",
    "        <td><b>allowVolumeExpansion:</b></td><td>Authorizes online Volume expansion</td>\n",
    "    </tr>\n",
    "    <tr>\n",
    "        <td><b>cldbHosts:</b></td><td>The hostname or IP addresses of the CLDB hosts for the MapR cluster. You must provide at least one CLDB host. For fault-tolerance, providing multiple CLDB hosts is recommended. To specify multiple hosts, separate each name or IP address by a space.</td>\n",
    "    </tr>\n",
    "      <tr>\n",
    "        <td><b>securityType:</b></td><td>A parameter that indicates whether MapR tickets are used or not used. If MapR tickets are used, specify secure. Otherwise, specify unsecure.</td>\n",
    "    </tr>\n",
    " </tbody>\n",
    "</table>    \n",
    "<div class=\"alert\" style=\"background-color:#FFAD33;color:#fff;\" role=\"alert\">\n",
    "  \n",
    "  <p><i class=\"fas fa-file-alt\"></i>&nbsp;&nbsp;Storage class file example : storage-class-studentx.yaml</p>\n",
    " \n",
    "</div>"
   ]
  },
  {
   "cell_type": "raw",
   "metadata": {},
   "source": [
    "apiVersion: storage.k8s.io/v1\n",
    "kind: StorageClass\n",
    "metadata:\n",
    "  name: mapr-student4-sc\n",
    "  namespace: mapr-stundent4\n",
    "provisioner: com.mapr.csi-kdf\n",
    "allowVolumeExpansion: true\n",
    "parameters:\n",
    "    csi.storage.k8s.io/provisioner-secret-name : mapr-provisioner-secrets\n",
    "    csi.storage.k8s.io/provisioner-secret-namespace : mapr-student4\n",
    "    csi.storage.k8s.io/controller-expand-secret-name: mapr-provisioner-secrets \n",
    "    csi.storage.k8s.io/controller-expand-secret-namespace: mapr-student4 \n",
    "    csiNodePublishSecretName: \"mapr-ticket-secret\"\n",
    "    csiNodePublishSecretNamespace: \"mapr-student4\"\n",
    "    restServers: \"10.6.29.250:8443 10.6.29.251:8443 10.6.29.252:8443\" \n",
    "    cldbHosts: \"10.6.29.250:7222 10.6.29.251:7222 10.6.29.252:7222\"\n",
    "    cluster: mapr-epc \n",
    "    securityType: secure \n",
    "    namePrefix: PVC-mssql\n",
    "    mountPrefix: /mssql\n",
    "    replication: \"3\"\n",
    "    minreplication: \"2\"\n",
    "    nsreplication: \"3\"\n",
    "    nsminreplication: \"2\"\n",
    "    type: \"rw\"\n",
    "    mount: \"1\""
   ]
  },
  {
   "cell_type": "markdown",
   "metadata": {},
   "source": [
    "<div class=\"alert\" style=\"background-color:#FFAD33;color:#fff;\" role=\"alert\">\n",
    "  <p class=\"mb-0\"><p class=\"mb-0\"><i class=\"fas fa-sync-alt\"></i>&nbsp;&nbsp;Run the command in the next Cell with button <i class=\"fas fa-play\"></i> </p>\n",
    "   <hr>\n",
    "  <p class=\"mb-0\">The following commands create storage class : </p> \n",
    "      \n",
    "</div>"
   ]
  },
  {
   "cell_type": "code",
   "execution_count": null,
   "metadata": {},
   "outputs": [],
   "source": [
    "ssh -t $JUPYTERHUB_USER@arvine \"kubectl create -f sql-mapr/create_storageclass.yaml -n mapr-$JUPYTERHUB_USER\""
   ]
  },
  {
   "cell_type": "markdown",
   "metadata": {},
   "source": [
    "<div class=\"alert\" style=\"background-color:#FFAD33;color:#fff;\" role=\"alert\">\n",
    "  \n",
    "  <p><i class=\"fas fa-eye\"></i>&nbsp;&nbsp;show a Storage Class are created : </p>\n",
    "    <hr>\n",
    "    <p class=\"mb-0\"><p class=\"mb-0\"><i class=\"fas fa-sync-alt\"></i>&nbsp;&nbsp;Run the command in the next Cell with button <i class=\"fas fa-play\"></i></p>\n",
    " \n",
    "</div>"
   ]
  },
  {
   "cell_type": "code",
   "execution_count": null,
   "metadata": {},
   "outputs": [],
   "source": [
    "ssh -t $JUPYTERHUB_USER@arvine \"kubectl get sc -n mapr-$JUPYTERHUB_USER|grep mapr\""
   ]
  },
  {
   "cell_type": "markdown",
   "metadata": {},
   "source": [
    "</br></br>\n",
    "<div class=\"alert\" style=\"background-color:#FFAD33;color:#fff;width:100%\" role=\"alert\">\n",
    "  <p style=\"font-size:20px;display: block;text-align:center;margin-left: auto;margin-right: auto;\"><i class=\"fas fa-4x fa-smile\"></i>&nbsp;&nbsp;Congratulations on completing the module&nbsp;&nbsp;<i class=\"fas fa-4x fa-praying-hands\"></i></p>\n",
    "</div>  "
   ]
  },
  {
   "cell_type": "markdown",
   "metadata": {},
   "source": [
    "<br><br>\n",
    "\n",
    "## <i class=\"fas fa-2x fa-map-marker-alt\" style=\"color:#FFAD33;\"></i>&nbsp;&nbsp;Next Steps\n",
    "\n",
    "Create Persitent Volume"
   ]
  },
  {
   "cell_type": "markdown",
   "metadata": {},
   "source": [
    "\n",
    " <a href=\"HPEMAPR-SQL-PVC.ipynb#pvc\" target=\"New\" title=\"Next:Create Persitent Volume\"><button type=\"submit\"  class=\"btn btn-lg btn-block\" style=\"background-color:#FFAD33;color:#fff;position:relative;width:10%; height: 30px;float: right;\"><b>Next</b></button></a>\n",
    " <a href=\"HPEMAPR-SQL-Driver-Deploy.ipynb#csid\" target=\"New\" title=\"Back: Deploy HPE MapR CSI Driver\"><button type=\"submit\"  class=\"btn btn-lg btn-block\" style=\"background-color:#FFAD33;color:#fff;position:relative;width:10%; height: 30px;float: left;\"><b>Back</b></button></a>"
   ]
  },
  {
   "cell_type": "markdown",
   "metadata": {},
   "source": [
    "<p style=\"display: block;margin-left: auto;margin-right: auto;width:10%;\" ><a href=\"#sc\" title=\"TOP\"><i class=\"fas fa-2x fa-chevron-circle-up\" style=\"color:#FFAD33;\"></i></a></p>"
   ]
  },
  {
   "cell_type": "code",
   "execution_count": null,
   "metadata": {},
   "outputs": [],
   "source": []
  }
 ],
 "metadata": {
  "kernelspec": {
   "display_name": "Bash",
   "language": "bash",
   "name": "bash"
  },
  "language_info": {
   "codemirror_mode": "shell",
   "file_extension": ".sh",
   "mimetype": "text/x-sh",
   "name": "bash"
  }
 },
 "nbformat": 4,
 "nbformat_minor": 4
}
