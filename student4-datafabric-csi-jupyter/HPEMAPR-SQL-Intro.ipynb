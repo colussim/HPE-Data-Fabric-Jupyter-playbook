{
 "cells": [
  {
   "cell_type": "markdown",
   "metadata": {},
   "source": [
    "<link rel=\"stylesheet\" type=\"text/css\" href=\"css/bootstrap.min.css\"></link>\n",
    "<link rel=\"stylesheet\" type=\"text/css\" href=\"css/fontawesome.min.css\"></link>\n",
    "<link rel=\"stylesheet\" type=\"text/css\" href=\"css/newfont.css\"></link>\n",
    "  \n",
    "<style type=\"text/css\" media=\"screen\">\n",
    "a:link { color:#FFFFFF; text-decoration: none; }\n",
    "a:visited { color:#FFFFFF; text-decoration: none; }\n",
    "a:hover { color:#FFFFFF; text-decoration: none; }\n",
    "a:active { color:#FFFFFF; text-decoration: underline; }\n",
    "    </style>\n",
    "\n",
    "# Ezmeral Data Fabric Storage HA solution using CSI driver\n",
    "<img src=\"imgs/cic.png\" alt=\"drawing\" width=\"195px\" height=\"351px\"/>\n",
    "<br>\n",
    "\n",
    "## Using HPE MapR Data Fabric Storage Container\n",
    "\n",
    "#### Part 1 : How to deploy SQL Server 2019 with an Operator on Kubernetes Cluster\n",
    "<br>\n",
    "<br>\n",
    "\n",
    "Emmanuel COLUSSI\n",
    "\n",
    "\n",
    "\n",
    "\n",
    "\n"
   ]
  },
  {
   "cell_type": "markdown",
   "metadata": {},
   "source": [
    "<br>\n",
    "<br>\n",
    "<br>\n",
    "<br>\n",
    "\n",
    "\n",
    "## <i class=\"far fa-2x fa-comment-dots\" style=\"color:#FFAD33;\"></i>&nbsp;&nbsp;About This Lab"
   ]
  },
  {
   "cell_type": "markdown",
   "metadata": {},
   "source": [
    "<p>Welcome to this Lab on HPE CSI Driver for Kubernetes with MapR Data Fabric Storage and SQL Server 2019 Lab.</p>\n",
    "<p>Kubernetes  allows you to create and manage containers. From a perspective of SQL Server, kubernetes provides:</p>\n",
    "<uL>\n",
    "    <li>A scalable architecture to deploy containerized applications and data platforms such as SQL Server</li>\n",
    "   <li> Persistent storage for stateful containers like SQL Server</li>\n",
    "    <li>Built-in load balancers to abstract application connections to SQL Server</li>\n",
    "    <li>Built-in high availability for stateful containers like SQL Server</li>\n",
    "    <li>An ecosystem for Operators to simplify application deployment and manage high availability</li>\n",
    "</ul>   \n",
    "<p>MapR Data fabric or kubernetes benefits : </p>\n",
    "<uL>\n",
    "    <li>Persist data for containerized applications</li>\n",
    "   <li>Scale data and performance as containers grow</li>\n",
    "    <li>Benefit from MapR tickets, for end-to-end security</li>\n",
    "    <li>Multi-tenant deployment and access</li>\n",
    "</ul>   \n",
    "    \n",
    "<p>The purpose of this demo is to show you how to use the MapR storage function for SQL Server in a kubernet environment.</p>\n",
    "\n",
    "<i class=\"fas fa-2x fa-info-circle\" style=\"color:#FFAD33;\"></i>\n",
    "> <b>Note:</b> The Kubernete cluster and MapR Data Fabric cluster and CSI driver are already deployed<br>\n",
    "\n"
   ]
  },
  {
   "cell_type": "markdown",
   "metadata": {},
   "source": [
    "## <i class=\"fas fa-2x fa-check\" style=\"color:#FFAD33;\"></i>&nbsp;&nbsp;Learning Objectives\n"
   ]
  },
  {
   "cell_type": "markdown",
   "metadata": {},
   "source": [
    "<p>When you complete this live demo, you will be able to:</p>\n",
    "<ul>\n",
    "<li>Understand Container Storage Interface (CSI) Driver for Kubernetes</li>\n",
    "<li>Know how to install the HPE CSI driver MapR for kubernetes</li>\n",
    "<li>Understand Kubernetes deployment</li>\n",
    "<li>Understand Dynamic Provisionning , Persitent Storage on Kubernetes</li>    \n",
    "<li>Understand the basics of deploying SQL Server on an Kubernetes cluster</li>    \n",
    "<li>Connect and run queries against SQL Server deployed on Kubernetes</li>        \n",
    "</ul>\n"
   ]
  },
  {
   "cell_type": "markdown",
   "metadata": {},
   "source": [
    "## <i class=\"fas fa-2x fa-city\" style=\"color:#FFAD33;\"></i>&nbsp;&nbsp;Business Applications of this Lab"
   ]
  },
  {
   "cell_type": "markdown",
   "metadata": {},
   "source": [
    "<ul>\n",
    "    <li>Developers looking to deploy a database container for their applications on Kubernetes.</li>\n",
    "    <li>Database Administrators looking to understand how to deploy database platforms like SQL Server in a Kubernetes cluster using Kubernetes.</li>\n",
    "</ul>    "
   ]
  },
  {
   "cell_type": "markdown",
   "metadata": {},
   "source": [
    "## <i class=\"fas fa-2x fa-cogs\" style=\"color:#FFAD33;\"></i>&nbsp;&nbsp;Infrastructure description"
   ]
  },
  {
   "cell_type": "markdown",
   "metadata": {},
   "source": [
    "\n",
    "<p>The infrastructure of the platform is composed of:</p>\n",
    "    <ul>\n",
    "     <li> <i class=\"fas fa-server\" style=\"color:#FFAD33;\"></i>&nbsp;&nbsp;1 Master node : arvine </li>\n",
    "    <li>  <i class=\"fas fa-server\" style=\"color:#FFAD33;\"></i>&nbsp;&nbsp;3 Worker nodes : gamaret, garonoir, syrah</li>\n",
    "    <li>  <img style=\"width: 16px;height: 16px;\" src=\"imgs/maprlogo.png\" alt=\"Kiwi standing on oval\">&nbsp;&nbsp;1 MapR Data Fabric cluster 6.2 with 3 nodes , the same nodes for kubernetes cluster</li>\n",
    "</ul>\n",
    "<ul>\n",
    "    <li><i class=\"fab fa-microsoft\" style=\"color:blue\"></i>&nbsp;&nbsp;Microsoft SQL Server 2019 container</li>\n",
    "    <li><i class=\"fab fa-redhat\" style=\"color:red\"></i>&nbsp;&nbsp;RedHat Enterprise server 8.2</li>\n",
    "    <li><i class=\"fas fa-dharmachakra\" style=\"color:blue\"></i>&nbsp;&nbsp;Kubernetes 1.19.6\n",
    "</ul> \n",
    "\n",
    "        "
   ]
  },
  {
   "cell_type": "markdown",
   "metadata": {},
   "source": [
    "![](imgs/infra1.png)"
   ]
  },
  {
   "cell_type": "markdown",
   "metadata": {},
   "source": [
    "<br><br><br>\n",
    "\n",
    "## <i class=\"fas fa-2x fa-user-graduate\" style=\"color:#FFAD33;\"></i>&nbsp;&nbsp;Lab Details"
   ]
  },
  {
   "cell_type": "markdown",
   "metadata": {},
   "source": [
    "<p>This Demonstration uses Kubernetes,Docker , SQL Server 2019 , Azure Data Studio, SQL Command Line Tools, and the Kubernetes CLI (kubectl).</p>"
   ]
  },
  {
   "cell_type": "markdown",
   "metadata": {},
   "source": [
    "<table class=\"table\" style=\"font-size: 14px;\">\n",
    "  <tbody>\n",
    "      <tr>\n",
    "        <td style=\"width:20%;\"><b>Primary Audience:</b></td><td>Administrators looking to learn how to manage Storage with CSI drivers on Kubernetes and Administrators looking to learn how to deploy, use, and manage SQL Server on kubernetes</td>\n",
    "    </tr>\n",
    "    <tr>\n",
    "        <td style=\"width:20%;\"><b>Secondary Audience:</b></td><td>Architects, Developers and IT Pros</td>\n",
    "    </tr>\n",
    "      <tr>\n",
    "          <td style=\"width:20%;\"><b>Type:</b></td><td>Interactif Demonstration</td>\n",
    "      </tr>  \n",
    "      <tr>\n",
    "        <td style=\"width:20%;\"><b>Length: </b></td><td>1 hours</td>\n",
    "    </tr>\n",
    " </tbody>\n",
    "</table>    "
   ]
  },
  {
   "cell_type": "markdown",
   "metadata": {},
   "source": [
    "<br><br><br>\n",
    "\n",
    "## <i class=\"fas fa-2x fa-book\" style=\"color:#FFAD33;\"></i><i class=\"fas fa-2x fa-pencil-alt\" style=\"color:#FFAD33;\"></i>&nbsp;&nbsp;Lab Modules"
   ]
  },
  {
   "cell_type": "markdown",
   "metadata": {},
   "source": [
    "<table class=\"table\" style=\"font-size: 14px;\">\n",
    "  <tbody>\n",
    "    <tr>\n",
    "        <td style=\"width:40%;\"><b>Module</b> </td> <td><b>Topics</b></td>\n",
    "    </tr>\n",
    "    <tr>\n",
    "       <td><b><a href=\"HPEMAPR-SQL-Driver-Deploy.ipynb#csid\" target=\"New\" title=\"Next: Introduction\">01-Deploying to Kubernetes</a></b></td><td>Introduction on Container Storage Interface (CSI) Driver for Kubernetes and learn install the HPE CSI driver for MapR</td>\n",
    "    </tr>\n",
    "    <tr>\n",
    "        <td><b><a href=\"HPEMAPR-SQL-SC.ipynb#sc\" target=\"New\" title=\"Next: Create Storage Class\">02-Create A Storage Class</a></b></td><td>Learn to create a Storage Class which will be used to provision persistent volumes</td>\n",
    "    </tr>\n",
    "      <tr>\n",
    "          <td><b><a href=\"HPEMAPR-SQL-PVC.ipynb#pvc\" target=\"New\" title=\"Next: Create A Persistent Volume Claim (PVC)\">03-Create A Persistent Volume Claim (PVC)</a></b></td><td>Learn to create a Persistent Volume Claim</td>\n",
    "      </tr>  \n",
    "      <tr>\n",
    "        <td><b><a href=\"HPEMAPR-SQL.ipynb#sqld\" target=\"New\" title=\"Next: Deploying SQL Server workload\">04-Deploying SQL Server workload</a></b></td><td>Learn to deploy SQL Server on Kubernetes Cluster.</td>\n",
    "    </tr>\n",
    "       <tr>\n",
    "          <td><b><a href=\"HPEMAPR-SQL-DB.ipynb#restore\" target=\"New\" title=\"Next: Restore Database\">05-Kubernetes Deployments 2</a></b></td><td>Restore SQL Server Database,Learn the basics of connecting and running queries to a SQL Server container on Kubernetes</td>\n",
    "      </tr> \n",
    "       <tr>\n",
    "          <td><b><a href=\"HPEMAPR-SQL-DB1.ipynb#DB1\" target=\"New\" title=\"Next: Use the persisted data\">06-Kubernetes Deployments 3</a></b></td><td>Learn Use the persisted data with SQL Server</td>\n",
    "      </tr>\n",
    "       <tr>\n",
    "          <td><b><a href=\"HPEMAPR-SQL-clone.ipynb#clone1\" target=\"New\" title=\"Next: Use the Clone Persistent volume Claim\">07-Kubernetes Deployments 4</a></b></td><td>Learn to create Clone Persistent Volume Claim (PVC) and use with SQL Server</td>\n",
    "      </tr> \n",
    "       <tr>\n",
    "          <td><b><a href=\"HPEMAPR-SQL-snap.ipynb#snap\" target=\"New\" title=\"Next: Use the Clone Persistent volume Claim\">08-Kubernetes Deployments 5</a></b></td><td>Learn to create volumes Snapshot Persistent Volume Claim (PVC) and use with SQL Server</td>\n",
    "      </tr> \n",
    "      <tr>\n",
    "          <td><b><a href=\"HPEMAPR-SQL-expansion.ipynb#exp\" target=\"New\" title=\"Next: Use the Clone Persistent volume Claim\">09-Kubernetes Deployments 6</a></b></td><td>Learn to create a Volume expansion and use with SQL Server</td>\n",
    "      </tr> \n",
    "      \n",
    " </tbody>\n",
    "</table>    "
   ]
  },
  {
   "cell_type": "markdown",
   "metadata": {},
   "source": [
    "## <i class=\"fas fa-2x fa-bullhorn\" style=\"color:#FFAD33;\"></i>&nbsp;&nbsp;Terminology"
   ]
  },
  {
   "cell_type": "markdown",
   "metadata": {},
   "source": [
    "<p>Throughout this demonstration we take for example the connection with the user <b><i>stundent4 </i></b>but all the configurations apply to any user.</p>"
   ]
  },
  {
   "cell_type": "markdown",
   "metadata": {},
   "source": [
    "## <i class=\"fas fa-2x fa-ban\" style=\"color:#FFAD33;\"></i>&nbsp;&nbsp;<span>Before you start</span>&nbsp;&nbsp; <i class=\"fas fa-2x fa-smile\" style=\"color:#FFAD33;\"></i>\n",
    "<p>Before start this demo, please start the reset of the platform, there may be errors, but do not worry that the reset was done correctly at the end by the previous student.</p>\n",
    "<p>And wait for the display: End LABS Reset</p>\n",
    "<div class=\"alert\" style=\"background-color:#FFAD33;color:#fff;\" role=\"alert\">\n",
    "  <p class=\"mb-0\"><i class=\"fas fa-sync-alt\"></i>&nbsp;&nbsp;Run the following command in the next Cells with button <i class=\"fas fa-play\"></i> : </div>"
   ]
  },
  {
   "cell_type": "code",
   "execution_count": null,
   "metadata": {},
   "outputs": [],
   "source": [
    "/home/$JUPYTERHUB_USER/SQLBDC-MAPR/reinit_jupyter.sh"
   ]
  },
  {
   "cell_type": "code",
   "execution_count": null,
   "metadata": {},
   "outputs": [],
   "source": [
    "ssh -t $JUPYTERHUB_USER@arvine \"sql-mapr/resetlab.sh mapr-$JUPYTERHUB_USER\""
   ]
  },
  {
   "cell_type": "markdown",
   "metadata": {},
   "source": [
    "<br><br>\n",
    "\n",
    "## <i class=\"fas fa-2x fa-map-marker-alt\" style=\"color:#FFAD33;\"></i>&nbsp;&nbsp;Next Steps"
   ]
  },
  {
   "cell_type": "markdown",
   "metadata": {},
   "source": [
    "<h2>Next, let's start&nbsp;&nbsp;&nbsp;&nbsp;<a href=\"HPEMAPR-SQL-Driver-Deploy.ipynb#csid\" target=\"New\" title=\"Next: Introduction\"><i class=\"fas fa-chevron-circle-right\" style=\"color:#FFAD33;\"></i></a></h2>"
   ]
  },
  {
   "cell_type": "code",
   "execution_count": null,
   "metadata": {},
   "outputs": [],
   "source": []
  }
 ],
 "metadata": {
  "kernelspec": {
   "display_name": "Bash",
   "language": "bash",
   "name": "bash"
  },
  "language_info": {
   "codemirror_mode": "shell",
   "file_extension": ".sh",
   "mimetype": "text/x-sh",
   "name": "bash"
  }
 },
 "nbformat": 4,
 "nbformat_minor": 4
}
