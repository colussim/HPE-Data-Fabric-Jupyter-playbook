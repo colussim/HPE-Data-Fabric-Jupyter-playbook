{
 "cells": [
  {
   "cell_type": "markdown",
   "metadata": {},
   "source": [
    "<style type=\"text/css\" media=\"screen\">\n",
    "a:link { color:#FFFFFF; text-decoration: none; }\n",
    "a:visited { color:#FFFFFF; text-decoration: none; }\n",
    "a:hover { color:#FFFFFF; text-decoration: none; }\n",
    "a:active { color:#FFFFFF; text-decoration: underline; }\n",
    "</style>\n",
    "# <A id=\"exp\" style=\"text-decoration:none;\">HPE CSI Driver Data Fabric for Kubernetes</a>\n",
    "![](imgs/hpedevlogo.svg)\n",
    "<img src=\"imgs/mapr-ar21.gif\" alt=\"csi logo\" style=\"float: right;\">\n",
    "<img src=\"imgs/csilogo1.png\" alt=\"csi logo\" style=\"float: right;\">\n",
    "## How to deploy SQL Server 2019 with an Operator on Kubernetes Cluster\n",
    "\n",
    "\n",
    "Emmanuel COLUSSI \n",
    "<br>\n",
    "<br>\n",
    "<br>\n",
    "<br>\n",
    "\n",
    "## Volume expansion\n",
    "\n",
    "</br>"
   ]
  },
  {
   "cell_type": "markdown",
   "metadata": {},
   "source": [
    "<i class=\"fas fa-2x fa-info-circle\" style=\"color:#FFAD33;\"></i>&nbsp;&nbsp;<p>One of the most common operations in storage and data management is to expand volume capacity. This feature has been in beta since Kubernetes 1.16 and is now available in the HPE MapR CSI Driver for Kubernetes as a supported feature. In true Kubernetes simplistic fashion the end-user that created the PVC may simply increase the capacity of the PVC specification and the CSI resizer will pick it up and perform all the necessary operations. These operations include increasing the backend storage system volume size, rescanning the multipath device on the host and finally growing the filesystem.This used to be a tedious operation that required a storage admin and Kubernetes admin to satisfy a user requirement, which is very counter-productive.</p>\n",
    "<p>we will go expand the storage requests for the SQL Server  production instance (Our first pod to create in the <i>Create Clone Persistent Volume Claim</i> module: <b><i>mssql-deployment-studentx-xxx...</i></b> Run the following command in the next Cell with button <i class=\"fas fa-play\"></i> to find his name).</p>\n",
    "<p>we will then patch the definition of the PVC associate with the command <b><i>kubectl apply -f patch_file</i></b></p>"
   ]
  },
  {
   "cell_type": "markdown",
   "metadata": {},
   "source": [
    "<div class=\"alert\" style=\"background-color:#FFAD33;color:#fff;\" role=\"alert\">\n",
    "  <p class=\"mb-0\"><i class=\"fas fa-sync-alt\"></i>&nbsp;&nbsp;Run the following command in the next Cell with button <i class=\"fas fa-play\"></i> :  Show pods</div>"
   ]
  },
  {
   "cell_type": "code",
   "execution_count": null,
   "metadata": {},
   "outputs": [],
   "source": [
    "ssh -t $JUPYTERHUB_USER@arvine \"kubectl get pods -l app=mssql -o wide -n mapr-$JUPYTERHUB_USER\""
   ]
  },
  {
   "cell_type": "markdown",
   "metadata": {},
   "source": [
    "<div class=\"alert\" style=\"background-color:#FFAD33;color:#fff;\" role=\"alert\">\n",
    "    <p class=\"mb-0\"><i class=\"fas fa-sync-alt\"></i>&nbsp;&nbsp;Run the commands in the next Cells with button <i class=\"fas fa-play\"></i> : </p>\n",
    "    <ul>\n",
    "        <li> Set varibale NAME_PODS : Name of your POD</li>\n",
    "    </ul>    \n",
    " \n",
    "</div> "
   ]
  },
  {
   "cell_type": "code",
   "execution_count": null,
   "metadata": {},
   "outputs": [],
   "source": [
    "export NAME_PODS=$(ssh $JUPYTERHUB_USER@arvine \"kubectl get pods -n mapr-$JUPYTERHUB_USER|grep mssql-deployment-student4-|awk '{print $1}'\")"
   ]
  },
  {
   "cell_type": "markdown",
   "metadata": {},
   "source": [
    "</br>\n",
    "<i class=\"fas fa-info-circle\" style=\"color:#FFAD33;\"></i>&nbsp;&nbsp;\n",
    "<p>The original size of the PVC ( <i>mapr-sqlserver-data01-student4</i> ) associated with the first pod is 50Gi, we will extend it to 100Gi</p>"
   ]
  },
  {
   "cell_type": "markdown",
   "metadata": {},
   "source": [
    "<div class=\"alert\" style=\"background-color:#FFAD33;color:#fff;\" role=\"alert\">\n",
    "  <p class=\"mb-0\"><i class=\"fas fa-sync-alt\"></i>&nbsp;&nbsp;Run the following command in the next Cell with button <i class=\"fas fa-play\"></i> :  Show PVC</p>\n",
    "    <p> The size of the PVC is 50Gi</p> "
   ]
  },
  {
   "cell_type": "code",
   "execution_count": null,
   "metadata": {},
   "outputs": [],
   "source": [
    "ssh -t $JUPYTERHUB_USER@arvine \"kubectl get pvc -n mapr-$JUPYTERHUB_USER\""
   ]
  },
  {
   "cell_type": "markdown",
   "metadata": {},
   "source": [
    "<div class=\"alert\" style=\"background-color:#FFAD33;color:#fff;\" role=\"alert\">\n",
    "  <p class=\"mb-0\"><i class=\"fas fa-sync-alt\"></i>&nbsp;&nbsp;Run the following command in the next Cell with button <i class=\"fas fa-play\"></i> :  Show the size of the volume inside the container</p>\n",
    "    <p> The size of the PVC is 50Gi, It is mounted on /var/opt/mssql</p> "
   ]
  },
  {
   "cell_type": "code",
   "execution_count": null,
   "metadata": {},
   "outputs": [],
   "source": [
    "ssh -t $JUPYTERHUB_USER@arvine \"kubectl -n mapr-$JUPYTERHUB_USER exec -ti $NAME_PODS -- /bin/df -h\""
   ]
  },
  {
   "cell_type": "markdown",
   "metadata": {},
   "source": [
    "<div class=\"alert\" style=\"background-color:#FFAD33;color:#fff;\" role=\"alert\">\n",
    "<p><i class=\"fas fa-file-alt\"></i>&nbsp;&nbsp;Patch file example  for PVC mapr-sqlserver-data01-student4 : patch-pvc.yaml</p>\n",
    "    </div>"
   ]
  },
  {
   "cell_type": "raw",
   "metadata": {},
   "source": [
    "apiVersion: v1\n",
    "kind: PersistentVolumeClaim\n",
    "apiVersion: v1\n",
    "metadata:\n",
    "  name: mapr-sqlserver-data01-student4 \n",
    "  namespace: mapr-student4\n",
    "spec:\n",
    "  storageClassName: mapr-student4-sc \n",
    "  accessModes:\n",
    "    - ReadWriteOnce\n",
    "  resources:\n",
    "    requests:\n",
    "      storage: 100G"
   ]
  },
  {
   "cell_type": "markdown",
   "metadata": {},
   "source": [
    "<div class=\"alert\" style=\"background-color:#FFAD33;color:#fff;\" role=\"alert\">\n",
    "  <p class=\"mb-0\"><i class=\"fas fa-sync-alt\"></i>&nbsp;&nbsp;Run the following command in the next Cell with button <i class=\"fas fa-play\"></i> :  Apply the patch"
   ]
  },
  {
   "cell_type": "code",
   "execution_count": null,
   "metadata": {},
   "outputs": [],
   "source": [
    "ssh -t $JUPYTERHUB_USER@arvine \"kubectl patch pvc mapr-sqlserver-data01-$JUPYTERHUB_USER -n mapr-$JUPYTERHUB_USER -p  '{ \\\"spec\\\": { \\\"resources\\\": { \\\"requests\\\": { \\\"storage\\\": \\\"100Gi\\\" }}}}' \""
   ]
  },
  {
   "cell_type": "markdown",
   "metadata": {},
   "source": [
    "<div class=\"alert\" style=\"background-color:#FFAD33;color:#fff;\" role=\"alert\">\n",
    "  <p><i class=\"fas fa-eye\"></i>&nbsp;&nbsp;show the new size of the updated PVC : </p>\n",
    "    <ul>\n",
    "        <li>show PVC</li>\n",
    "        <li>Show the size of the volume inside the container</li>\n",
    "    </ul> \n",
    "    <hr>\n",
    "    <p class=\"mb-0\"><i class=\"fas fa-sync-alt\"></i>&nbsp;&nbsp;Run the following command in the next Cells with button <i class=\"fas fa-play\"></i> </p>\n",
    "    <p>it can take a few minutes before the modification size of the PVC  is visible</p>\n",
    " \n",
    "</div>"
   ]
  },
  {
   "cell_type": "code",
   "execution_count": null,
   "metadata": {},
   "outputs": [],
   "source": [
    "ssh -t $JUPYTERHUB_USER@arvine \"kubectl get pvc -n mapr-$JUPYTERHUB_USER\""
   ]
  },
  {
   "cell_type": "code",
   "execution_count": null,
   "metadata": {},
   "outputs": [],
   "source": [
    "ssh -t $JUPYTERHUB_USER@arvine \"kubectl -n mapr-$JUPYTERHUB_USER exec -ti $NAME_PODS -- /bin/df -h\""
   ]
  },
  {
   "cell_type": "markdown",
   "metadata": {},
   "source": [
    "</br></br>\n",
    "<div class=\"alert\" style=\"background-color:#FFAD33;color:#fff;width:100%\" role=\"alert\">\n",
    "  <p style=\"font-size:20px;display: block;text-align:center;margin-left: auto;margin-right: auto;\"><i class=\"fas fa-4x fa-smile\"></i>&nbsp;&nbsp;Congratulations on completing the module&nbsp;&nbsp;<i class=\"fas fa-4x fa-praying-hands\"></i></p>\n",
    "</div>  "
   ]
  },
  {
   "cell_type": "markdown",
   "metadata": {},
   "source": [
    "<br><br>\n",
    "\n",
    "## <i class=\"fas fa-2x fa-map-marker-alt\" style=\"color:#FFAD33;\"></i>&nbsp;&nbsp;Next Steps\n",
    "\n",
    "Conclusion\n"
   ]
  },
  {
   "cell_type": "markdown",
   "metadata": {},
   "source": [
    "</br></br>\n",
    " <a href=\"HPEMAPR-SQL-end.ipynb#end\" target=\"New\" title=\"Next: End\"><button type=\"submit\"  class=\"btn btn-lg btn-block\" style=\"background-color:#FFAD33;color:#fff;position:relative;width:10%; height: 30px;float: right;\"><b>Next</b></button></a>\n",
    " <a href=\"HPEMAPR-SQL-snap#snap\" target=\"New\" title=\"Back: Create volumes Snapshot Persistent Volume Claim (PVC)\"><button type=\"submit\"  class=\"btn btn-lg btn-block\" style=\"background-color:#FFAD33;color:#fff;position:relative;width:10%; height: 30px;float: left;\"><b>Back</b></button></a>"
   ]
  },
  {
   "cell_type": "markdown",
   "metadata": {},
   "source": [
    "<p style=\"display: block;margin-left: auto;margin-right: auto;width:10%;\" ><a href=\"#exp\" title=\"TOP\"><i class=\"fas fa-2x fa-chevron-circle-up\" style=\"color:#FFAD33;\"></i></a></p>"
   ]
  },
  {
   "cell_type": "code",
   "execution_count": null,
   "metadata": {},
   "outputs": [],
   "source": []
  }
 ],
 "metadata": {
  "kernelspec": {
   "display_name": "Bash",
   "language": "bash",
   "name": "bash"
  },
  "language_info": {
   "codemirror_mode": "shell",
   "file_extension": ".sh",
   "mimetype": "text/x-sh",
   "name": "bash"
  }
 },
 "nbformat": 4,
 "nbformat_minor": 4
}
