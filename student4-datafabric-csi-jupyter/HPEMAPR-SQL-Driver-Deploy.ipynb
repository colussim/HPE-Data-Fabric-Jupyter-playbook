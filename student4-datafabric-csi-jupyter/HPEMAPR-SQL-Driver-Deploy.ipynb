{
 "cells": [
  {
   "cell_type": "markdown",
   "metadata": {},
   "source": [
    "<style type=\"text/css\" media=\"screen\">\n",
    "a:link { color:#FFFFFF; text-decoration: none; }\n",
    "a:visited { color:#FFFFFF; text-decoration: none; }\n",
    "a:hover { color:#FFFFFF; text-decoration: none; }\n",
    "a:active { color:#FFFFFF; text-decoration: underline; }\n",
    "</style>\n",
    "# <a id=\"csid\" style=\"text-decoration:none;\">HPE CSI Driver Data Fabric for Kubernetes</a>\n",
    "![](imgs/hpedevlogo.svg)\n",
    "<img src=\"imgs/mapr-ar21.gif\" alt=\"csi logo\" style=\"float: right;\">\n",
    "<img src=\"imgs/csilogo1.png\" alt=\"csi logo\" style=\"float: right;\">\n",
    "## How to deploy SQL Server 2019 with an Operator on Kubernetes Cluster\n",
    "\n",
    "Emmanuel COLUSSI \n",
    "<br>\n",
    "<br>\n",
    "<br>\n",
    "<br>\n",
    "\n",
    "## Introduction\n",
    "Kubernetes, or k8s (k, 8 characters, s...get it?), or “kube” if you’re into brevity, is an open source platform that automates Linux container operations. It eliminates many of the manual processes involved in deploying and scaling containerized applications. In other words, you can cluster together groups of hosts running Linux containers, and Kubernetes helps you easily and efficiently manage those clusters. These clusters can span hosts across public, private, or hybrid clouds. \n",
    "\n",
    "<img src=\"imgs/k8s2.png\" alt=\"Kubernetes Architecture\" >\n",
    "\n",
    "A Container Storage Interface (CSI) Driver for Kubernetes.The HPE MapR CSI Driver for Kubernetes allows you to use a Container Storage Provider to perform data management operations on storage resources.<br><br>\n",
    "<img src=\"imgs/maprcsi.png\" alt=\"csi logo\" >\n",
    "\n",
    "\n",
    "<p>MapR is providing this capability using a standard called the Container Storage Interface (CSI). This community-driven standard was recently established as a platform-independent way to provide persistent data storage in Container Orchestrator Systems (COs), such as Kubernetes, Mesos, and Cloud Foundry. This new capability maintains feature parity with the FlexVolume plugin that MapR released for Kubernetes last year and it aligns MapR with the priorities of CO communities where CSI is seeing high adoption and support.</p>\n",
    "\n",
    "<p>MapR's storage plugin for Kubernetes provides the following capabilities to applications containers:</p>\n",
    "<ul>\n",
    "    <li>Containers can mount MapR volumes as a POSIX file system.</li>\n",
    "    <li>Containers can create and delete MapR volumes.</li>\n",
    "    <li>Containers can create MapR volume snapshots for point-in-time backups.</li>\n",
    "\n",
    "</ul>\n",
    "\n",
    "## Deploying to Kubernetes\n",
    "> This guide is primarily written to accommodate installation on upstream Kubernetes. Installation steps may vary for different distributions of Kubernetes.<br>\n",
    "\n",
    "\n",
    "> In this lab we don’t need to install the HPE Data Fabric cluster is preinstalled as well as the csi plugin driver for MapR.\n",
    "For installation information, see Installing and Uninstalling the MapR Container Storage Interface (CSI) Storage Plugin : https://docs.datafabric.hpe.com/61/CSIdriver/csi_installation.html<br>\n",
    "\n",
    "> Installing the MapR Container Storage Interface (CSI) Storage Plugin is easy, just execute the following command :<br>\n",
    "> kubectl create -f https://raw.githubusercontent.com/mapr/mapr-csi/v1.2.0/deploy/kubernetes/csi-maprkdf-v1.2.0.yaml\n",
    "\n"
   ]
  },
  {
   "cell_type": "markdown",
   "metadata": {},
   "source": [
    "Show is the MapR Container Storage Interface Storage Plugin driver is installed"
   ]
  },
  {
   "cell_type": "code",
   "execution_count": null,
   "metadata": {},
   "outputs": [],
   "source": [
    "ssh -t $JUPYTERHUB_USER@arvine \"kubectl get pods --all-namespaces -o wide |grep mapr-csi\""
   ]
  },
  {
   "cell_type": "markdown",
   "metadata": {},
   "source": [
    "</br>\n",
    "<i class=\"fas fa-2x fa-info-circle\" style=\"color:#FFAD33;\"></i>\n",
    "\n",
    "> To leverage the MapR file system with a Kubernetes cluster, you can create a PersistentVolume in Kubernetes.\n",
    "> The following diagram shows the two ways in which the PersistentVolume can be provisioned for the POSIX client."
   ]
  },
  {
   "cell_type": "markdown",
   "metadata": {},
   "source": [
    "<img src=\"imgs/StaticVsDynamicProvisioning_rebrand.png\" alt=\"Mapr\" style=\"display: block;margin-left: auto;margin-right: auto;width:40%;\">"
   ]
  },
  {
   "cell_type": "markdown",
   "metadata": {},
   "source": [
    "<br>\n",
    "<br>\n",
    "<i class=\"fas fa-2x fa-walking\" style=\"color:#FFAD33;\"></i>&nbsp;&nbsp;The first step is to create Rest secret for dynamic volume provisioning with your platform details.<br></br>\n",
    "<p>Kubernetes Secrets enable you to inject sensitive data into a pod.For dynamic provisioning, you must use a Secret to pass the user name and password of a MapR user to the provisioner. This user must have privileges to create and delete a MapR volume. The credentials allow the provisioner to make REST calls to the MapR webserver.</p>\n",
    "<p>Replace the password string <b>'YWRtaW4='</b> with a base64 encoded version of mapr user password .</p>\n",
    "<br>\n",
    "\n",
    "<link rel=\"stylesheet\" type=\"text/css\" href=\"css/bootstrap.min.css\">\n",
    "<link rel=\"stylesheet\" type=\"text/css\" href=\"css/fontawesome.min.css\">\n",
    "\n",
    "<div class=\"alert\" style=\"background-color:#FFAD33;color:#fff;\" role=\"alert\">\n",
    "  \n",
    "  <p><i class=\"fas fa-file-alt\"></i>&nbsp;&nbsp;secret file example : secure_rest_ticket.yaml</p>\n",
    " \n",
    "</div>"
   ]
  },
  {
   "cell_type": "raw",
   "metadata": {},
   "source": [
    "apiVersion: v1\n",
    "kind: Secret\n",
    "metadata:\n",
    "  name: mapr-provisioner-secrets\n",
    "  namespace: mapr-student4\n",
    "type: Opaque\n",
    "data:\n",
    "  MAPR_CLUSTER_USER: bWFwcg== \n",
    "  MAPR_CLUSTER_PASSWORD: QmVuY2gxMjM="
   ]
  },
  {
   "cell_type": "markdown",
   "metadata": {},
   "source": [
    "<div class=\"alert\" style=\"background-color:#FFAD33;color:#fff;\" role=\"alert\">\n",
    "  \n",
    "  <p><i class=\"fas fa-eye\"></i>&nbsp;&nbsp;You should now see the secret in the mapr-student4 namespace:</p>\n",
    "    <hr>\n",
    "    <p class=\"mb-0\"><i class=\"fas fa-sync-alt\"></i> Run the following commands in the next Cell with button <i class=\"fas fa-play\"></i> : </p>\n",
    "    <p class=\"mb-0\"><i class=\"fas fa-hand-point-right\"></i>&nbsp;&nbsp;create a namespace for the Demo </p> \n",
    "    <p class=\"mb-0\"><i class=\"fas fa-hand-point-right\"></i>&nbsp;&nbsp;create a secret </p> \n",
    "</div>"
   ]
  },
  {
   "cell_type": "code",
   "execution_count": null,
   "metadata": {},
   "outputs": [],
   "source": [
    "ssh -t $JUPYTERHUB_USER@arvine \"kubectl create -f sql-mapr/create_namespace.yaml\""
   ]
  },
  {
   "cell_type": "code",
   "execution_count": null,
   "metadata": {},
   "outputs": [],
   "source": [
    "ssh -t $JUPYTERHUB_USER@arvine \"kubectl create -f sql-mapr/secure_rest_ticket.yaml -n mapr-$JUPYTERHUB_USER\""
   ]
  },
  {
   "cell_type": "code",
   "execution_count": null,
   "metadata": {},
   "outputs": [],
   "source": [
    "ssh -t $JUPYTERHUB_USER@arvine \"kubectl -n mapr-$JUPYTERHUB_USER get secret/mapr-provisioner-secrets\""
   ]
  },
  {
   "cell_type": "markdown",
   "metadata": {},
   "source": [
    "<i class=\"fas fa-2x fa-walking\" style=\"color:#FFAD33;\"></i>&nbsp;&nbsp;The second step is to create a secret for MapR ticket with your platform details.<br></br>\n",
    "<p>For static and dynamic provisioning, you must specify a Secret, which is the base64 representation of the ticket, to enable the POSIX client to communicate with a secure MapR cluster. The ticket for the POSIX client can be generated on the MapR cluster using the maprlogin utility.</p>\n",
    "<p>The steps to generate the ticket or retrieve the value of the existing ticket are as follows : </p>\n",
    "<ul>\n",
    "    <li>Logon MapR Cluster, and locate the ticket file using \"maprlogin print\" or generate a new ticket file using \"maprlogin password\" :<br> \n",
    "For example, here we are using \"mapr\" user ticket file located at /tmp/maprticket_5000.</li>\n",
    "    <li>Convert the ticket into base64 representation and save the output : <br>\n",
    "        cat /tmp/maprticket_5000 | base64</li>\n",
    "    <li> Assign the value of the converted ticket to <b>CONTAINER_TICKET</b></li>\n",
    "</ul>    "
   ]
  },
  {
   "cell_type": "markdown",
   "metadata": {},
   "source": [
    "<div class=\"alert\" style=\"background-color:#FFAD33;color:#fff;\" role=\"alert\">\n",
    "  \n",
    "  <p><i class=\"fas fa-file-alt\"></i>&nbsp;&nbsp;secret file example : secure_ticket.yaml</p>\n",
    " \n",
    "</div>"
   ]
  },
  {
   "cell_type": "raw",
   "metadata": {},
   "source": [
    "apiVersion: v1\n",
    "kind: Secret\n",
    "metadata:\n",
    "  name: mapr-provisioner-secrets\n",
    "  namespace: mapr-student4\n",
    "type: Opaque\n",
    "data:\n",
    "  CONTAINER_TICKET: bWFwci1lcGMgYkJTT2QvWmo3SmVMT3psTjBlWHhGWTFva2JLRXBUaEVzWUpLZlpzZEN5K2RCeHFoUFEwTm5iLzhwajdHQXZFbHZKakEzUmFMZ3lQdS96K2ROS2lFckxyRDFnM3pHMEY1cWRlVjBwUDh4Z01kZy8yQWoyODhCdHFsYzRiOTJDNytrSzI5ZTRRMWRZbEo4RWNha2hCanhQY2VQZUdXNHh3RUtYcXRQMDB6N1d0NDZXRTZjZ\n",
    "2dKODRqNEtWSHR1QVNiczM3NFhlQ1g4dmp6R25CbEgzQTlIVEZTQmJYOVZqYXhiUHNHcnZIeXpyd1d1MHRySE5kZ0VmSFJZME93czBZVHJhaUNTZEJEN1ZIMHdqaERObUMyUHRUdklYUk5BV0xqUVZYMwo="
   ]
  },
  {
   "cell_type": "markdown",
   "metadata": {},
   "source": [
    "<div class=\"alert\" style=\"background-color:#FFAD33;color:#fff;\" role=\"alert\">\n",
    "  <p class=\"mb-0\"><i class=\"fas fa-hand-point-right\"></i>&nbsp;&nbsp;create a secret </p> \n",
    "  <p><i class=\"fas fa-eye\"></i>&nbsp;&nbsp;You should now see the secret for MapR ticket in the mapr-student4 namespace:</p>\n",
    "   \n",
    "</div>"
   ]
  },
  {
   "cell_type": "code",
   "execution_count": null,
   "metadata": {},
   "outputs": [],
   "source": [
    "ssh -t $JUPYTERHUB_USER@arvine \"kubectl create -f sql-mapr/secure_tickets.yaml -n mapr-$JUPYTERHUB_USER\""
   ]
  },
  {
   "cell_type": "code",
   "execution_count": null,
   "metadata": {},
   "outputs": [],
   "source": [
    "ssh -t $JUPYTERHUB_USER@arvine \"kubectl -n mapr-$JUPYTERHUB_USER get secret/mapr-provisioner-secrets\""
   ]
  },
  {
   "cell_type": "markdown",
   "metadata": {},
   "source": [
    "<br><br>\n",
    "\n",
    "## <i class=\"fas fa-2x fa-map-marker-alt\" style=\"color:#FFAD33;\"></i>&nbsp;&nbsp;Next Steps"
   ]
  },
  {
   "cell_type": "markdown",
   "metadata": {},
   "source": [
    "HPE CSI Driver for MapR is installed ,the next step is to create a Storage Class which will be used to provision persistent volumes"
   ]
  },
  {
   "cell_type": "markdown",
   "metadata": {},
   "source": [
    " \n",
    " <a href=\"HPEMAPR-SQL-SC.ipynb#sc\" target=\"New\" title=\"Next: Create Storage Class\"><button type=\"submit\"  class=\"btn btn-lg btn-block\" style=\"background-color:#FFAD33;color:#fff;position:relative;width:10%; height: 30px;float: right;\"><b>Next</b></button></a> \n",
    " <a href=\"HPEMAPR-SQL-Intro.ipynb#intro\" target=\"New\" title=\"Back: About This demontration\"><button type=\"submit\"  class=\"btn btn-lg btn-block\" style=\"background-color:#FFAD33;color:#fff;position:relative;width:10%; height: 30px;float: left;\"><b>Back</b></button></a> \n",
    " \n",
    " \n",
    "\n",
    "\n"
   ]
  },
  {
   "cell_type": "markdown",
   "metadata": {},
   "source": [
    "<p style=\"display: block;margin-left: auto;margin-right: auto;width:10%;\" ><a href=\"#csid\" title=\"TOP\"><i class=\"fas fa-2x fa-chevron-circle-up\" style=\"color:#FFAD33;\"></i></a></p>"
   ]
  },
  {
   "cell_type": "code",
   "execution_count": null,
   "metadata": {},
   "outputs": [],
   "source": []
  }
 ],
 "metadata": {
  "kernelspec": {
   "display_name": "Bash",
   "language": "bash",
   "name": "bash"
  },
  "language_info": {
   "codemirror_mode": "shell",
   "file_extension": ".sh",
   "mimetype": "text/x-sh",
   "name": "bash"
  }
 },
 "nbformat": 4,
 "nbformat_minor": 4
}
