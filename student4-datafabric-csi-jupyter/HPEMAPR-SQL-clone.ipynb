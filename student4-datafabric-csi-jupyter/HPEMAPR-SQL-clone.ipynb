{
 "cells": [
  {
   "cell_type": "markdown",
   "metadata": {},
   "source": [
    "<style type=\"text/css\" media=\"screen\">\n",
    "a:link { color:#FFFFFF; text-decoration: none; }\n",
    "a:visited { color:#FFFFFF; text-decoration: none; }\n",
    "a:hover { color:#FFFFFF; text-decoration: none; }\n",
    "a:active { color:#FFFFFF; text-decoration: underline; }\n",
    "</style>\n",
    "# <A id=\"clone1\" style=\"text-decoration:none;\">HPE CSI Driver Data Fabric for Kubernetes</a>\n",
    "![](imgs/hpedevlogo.svg)\n",
    "<img src=\"imgs/mapr-ar21.gif\" alt=\"csi logo\" style=\"float: right;\">\n",
    "<img src=\"imgs/csilogo1.png\" alt=\"csi logo\" style=\"float: right;\">\n",
    "## How to deploy SQL Server 2019 with an Operator on Kubernetes Cluster\n",
    "\n",
    "Emmanuel COLUSSI \n",
    "<br>\n",
    "<br>\n",
    "<br>\n",
    "<br>\n",
    "\n",
    "## Deploying SQL Server workload\n",
    "### Create Clone Persistent Volume Claim (PVC)\n",
    "</br>\n",
    "<i class=\"fas fa-2x fa-info-circle\" style=\"color:#FFAD33;\"></i>&nbsp;&nbsp;<p>Cloning is the process of copying an online database onto another server. The copy is independent of the existing database and is preserved as a point-in-time snapshot.</p><p> You can use a cloned database for various purposes without putting a load on the production server or risking the integrity of production data. Some of these purposes include the following:</p>\n",
    "<ul>\n",
    "    <li>Performing analytical queries</li>\n",
    "    <li>Load testing or integration testing of your apps</li>\n",
    "   <li> Data extraction for populating data warehouses</li>\n",
    "   <li> Running experiments on the data</li>\n",
    "    <li>Migration ..... </li>\n",
    "</ul>    \n",
    "\n",
    "\n",
    "\n",
    "<p>We will demonstrate the ability to clone directly from a PVC as declared in the dataSource.It’s also possible to create forks of the SQL Server database to create even more sophisticated workflows.</p></br>\n",
    "\n",
    "<p>It’s now possible to transform the data of the \"test\" deployment without disturbing the data of the \"prod\" deployment. This opens up the possibility to create advanced testing and development workflows that uses an exact representation of production data. Whether this dataset is a few bytes or a handful of terabytes, the operation will only take a few seconds to execute as the clones are not making any copies of the source data.</br>\n",
    "\n",
    "We will create a Clone directly from an existing PVC without creating a snapshot. \n",
    "\n",
    "</p>\n",
    "<p>The clone is a writable physical copy </p>\n",
    "<img src=\"imgs/clone.gif\" alt=\"csi logo\" style=\"float: left;\">\n"
   ]
  },
  {
   "cell_type": "markdown",
   "metadata": {},
   "source": [
    "\n",
    "</br>\n",
    "<p><i class=\"fas fa-2x fa-walking\" style=\"color:#FFAD33;\"></i>&nbsp;&nbsp;<b>STEP 1: </b>Now we can create a Volume Clone</p>\n",
    "<p>We will create a Volume Clone <b><i>mapr-sqlserver-clone01-student4</i></b> which will be a Clone of the PVC <b><i>mapr-sqlserver-data01-student4</i></b>"
   ]
  },
  {
   "cell_type": "markdown",
   "metadata": {},
   "source": [
    "<div class=\"alert\" style=\"background-color:#FFAD33;color:#fff;\" role=\"alert\">\n",
    "<p><i class=\"fas fa-file-alt\"></i>&nbsp;&nbsp;Volume Clone file example : create-volumeclone-student4.yaml</p>\n",
    "    </div>"
   ]
  },
  {
   "cell_type": "raw",
   "metadata": {},
   "source": [
    "apiVersion: v1\n",
    "kind: PersistentVolumeClaim\n",
    "metadata:\n",
    "  name: mapr-sqlserver-clone01-student4\n",
    "  namespace: mapr-student4\n",
    "spec:\n",
    "  dataSource:     \n",
    "     name: mapr-sqlserver-data01-student4\n",
    "     kind: PersistentVolumeClaim\n",
    "  storageClassName: mapr-student4-sc\n",
    "  accessModes:\n",
    "    - ReadWriteOnce\n",
    "  resources:\n",
    "    requests:\n",
    "      storage: 50G"
   ]
  },
  {
   "cell_type": "markdown",
   "metadata": {},
   "source": [
    "<div class=\"alert\" style=\"background-color:#FFAD33;color:#fff;\" role=\"alert\">\n",
    "  <p class=\"mb-0\"><i class=\"fas fa-sync-alt\"></i>&nbsp;&nbsp;Run the following command in the next Cell with button <i class=\"fas fa-play\"></i> : "
   ]
  },
  {
   "cell_type": "code",
   "execution_count": null,
   "metadata": {},
   "outputs": [],
   "source": [
    "ssh -t $JUPYTERHUB_USER@arvine \"kubectl create -f  sql-mapr/create-volumeclone-student4.yaml -n mapr-$JUPYTERHUB_USER\""
   ]
  },
  {
   "cell_type": "markdown",
   "metadata": {},
   "source": [
    "<div class=\"alert\" style=\"background-color:#FFAD33;color:#fff;\" role=\"alert\">\n",
    "  <p><i class=\"fas fa-eye\"></i>&nbsp;&nbsp;show a Volume Clone is created : after about 1 minute the volume is cloned and will have the bound state .... <i class=\"fas fa-2x fa-smile\"></i></p>\n",
    "    <hr>\n",
    "    <p class=\"mb-0\"><i class=\"fas fa-sync-alt\"></i>&nbsp;&nbsp;Run the following command in the next Cell with button <i class=\"fas fa-play\"></i> :</p>\n",
    " \n",
    "</div>"
   ]
  },
  {
   "cell_type": "code",
   "execution_count": null,
   "metadata": {},
   "outputs": [],
   "source": [
    "ssh -t $JUPYTERHUB_USER@arvine \"kubectl get pvc -n mapr-$JUPYTERHUB_USER |grep clone\""
   ]
  },
  {
   "cell_type": "markdown",
   "metadata": {},
   "source": [
    "<i class=\"fas fa-2x fa-info-circle\" style=\"color:#FFAD33;\"></i>\n",
    "> You can connect to the MapR management web interface and see the Clone volume created :\n",
    "[HPE MapR Management](https://10.4.0.132:8443/app/mcs/#/app/volumes) </br>\n",
    "<b>Username :</b> mapr</br>\n",
    "<b>Password :</b>     "
   ]
  },
  {
   "cell_type": "markdown",
   "metadata": {},
   "source": [
    "![](imgs/mapr-clone.png)"
   ]
  },
  {
   "cell_type": "markdown",
   "metadata": {},
   "source": [
    "</br>\n",
    "<i class=\"fas fa-2x fa-walking\" style=\"color:#FFAD33;\"></i>&nbsp;&nbsp;<b>STEP 2:</b> Now we can create a new SQL Server deployment using PVC : mapr-sqlserver-clone01-student4</br>"
   ]
  },
  {
   "cell_type": "markdown",
   "metadata": {},
   "source": [
    "<div class=\"alert\" style=\"background-color:#FFAD33;color:#fff;\" role=\"alert\">\n",
    "  \n",
    "  <p><i class=\"fas fa-file-export\"></i>&nbsp;&nbsp;Deployement file example : deploy-mssql-s-clone.yaml</p>\n",
    " \n",
    "</div>"
   ]
  },
  {
   "cell_type": "raw",
   "metadata": {},
   "source": [
    "apiVersion: apps/v1\n",
    "kind: Deployment\n",
    "metadata:\n",
    "  name: mssql-deployment-clone-student4\n",
    "spec:\n",
    "  replicas: 1\n",
    "  selector:\n",
    "    matchLabels:\n",
    "     app: mssql\n",
    "  strategy:\n",
    "    type: Recreate\n",
    "  template:\n",
    "    metadata:\n",
    "      labels:\n",
    "        app: mssql\n",
    "    spec:\n",
    "      terminationGracePeriodSeconds: 10\n",
    "      securityContext:\n",
    "          runAsUser: 10001\n",
    "          fsGroup: 0\n",
    "      containers:\n",
    "      - name: mssql\n",
    "        image: mcr.microsoft.com/mssql/rhel/server:2019-latest\n",
    "        ports:\n",
    "        - containerPort: 1433\n",
    "        env:\n",
    "        - name: MSSQL_PID\n",
    "          value: \"Developer\"\n",
    "        - name: ACCEPT_EULA\n",
    "          value: \"Y\"\n",
    "        - name: SA_PASSWORD\n",
    "          valueFrom:\n",
    "            secretKeyRef:\n",
    "              name: sqlsecret-student4\n",
    "              key: sapassword\n",
    "        volumeMounts:\n",
    "        - name: mssqldb\n",
    "          mountPath: /var/opt/mssql/data\n",
    "      restartPolicy: Always\n",
    "      volumes:\n",
    "      - name: mssqldb\n",
    "        persistentVolumeClaim:\n",
    "          claimName: mapr-sqlserver-clone01-student4\n",
    "---\n",
    "apiVersion: v1\n",
    "kind: Service\n",
    "metadata:\n",
    "  name: mssql-service-clone-student4\n",
    "spec:\n",
    "  selector:\n",
    "    app: mssql\n",
    "  ports:\n",
    "    - protocol: TCP\n",
    "      port: 1433\n",
    "      targetPort: 1433\n",
    "  type: NodePort"
   ]
  },
  {
   "cell_type": "markdown",
   "metadata": {},
   "source": [
    "<div class=\"alert\" style=\"background-color:#FFAD33;color:#fff;\" role=\"alert\">\n",
    "    <p class=\"mb-0\"><i class=\"fas fa-sync-alt\"></i>&nbsp;&nbsp;Run the command in the next Cells with button <i class=\"fas fa-play\"></i> : </p>\n",
    "</div> "
   ]
  },
  {
   "cell_type": "code",
   "execution_count": null,
   "metadata": {},
   "outputs": [],
   "source": [
    "ssh -t $JUPYTERHUB_USER@arvine \"kubectl create -f sql-mapr/deploy-mssql-clone-$JUPYTERHUB_USER.yaml -n mapr-$JUPYTERHUB_USER\""
   ]
  },
  {
   "cell_type": "markdown",
   "metadata": {},
   "source": [
    "The deployment and service are created. The SQL Server instance is in a container, connected to persistent storage.\n",
    "<div class=\"alert\" style=\"background-color:#FFAD33;color:#fff;\" role=\"alert\">\n",
    "  \n",
    "  <p><i class=\"fas fa-check-circle\"></i>&nbsp;&nbsp;To view the status of the pod</p>\n",
    "    <hr>\n",
    "    <p class=\"mb-0\"><i class=\"fas fa-sync-alt\"></i>&nbsp;&nbsp;Run the command in the next Cell with button <i class=\"fas fa-play\"></i> several times until the status is running</p>\n",
    " \n",
    "</div>"
   ]
  },
  {
   "cell_type": "code",
   "execution_count": null,
   "metadata": {},
   "outputs": [],
   "source": [
    "ssh -t $JUPYTERHUB_USER@arvine \"kubectl get pods -n mapr-$JUPYTERHUB_USER\""
   ]
  },
  {
   "cell_type": "markdown",
   "metadata": {},
   "source": [
    "The deployment and service are created. The SQL Server clone instance is in a container, connected to persistent storage.\n",
    "<div class=\"alert\" style=\"background-color:#FFAD33;color:#fff;\" role=\"alert\">\n",
    "    <p class=\"mb-0\"><i class=\"fas fa-sync-alt\"></i>&nbsp;&nbsp;Run the commands in the next Cells with button <i class=\"fas fa-play\"></i> : </p>\n",
    "    <ul>\n",
    "        <li> Get NodePort : TCP port binding SQL Server clone service</li>\n",
    "        <li> Set varibale HOST_NAME : IP_NODE_KUBERNETES,TPC_PORT</li>\n",
    "        <li> Check SQL Server Connexion</li>\n",
    "    </ul>    \n",
    "  <p><i class=\"fas fa-list-ol\"></i>&nbsp;&nbsp;Run a query to view the top 10 items in the <b>Warehouse.StockItems tabler</b> , we have the same result as on the query executed on the source of the clone </p>   \n",
    " \n",
    "</div> "
   ]
  },
  {
   "cell_type": "code",
   "execution_count": null,
   "metadata": {},
   "outputs": [],
   "source": [
    "export NODE_PORT=$(ssh $JUPYTERHUB_USER@arvine \"kubectl get svc mssql-service-clone-$JUPYTERHUB_USER -n mapr-$JUPYTERHUB_USER -o jsonpath=\\\"{.spec.ports[0].nodePort}\\\" \") "
   ]
  },
  {
   "cell_type": "code",
   "execution_count": null,
   "metadata": {},
   "outputs": [],
   "source": [
    "export HOST_NAME=\"arvine,$NODE_PORT\""
   ]
  },
  {
   "cell_type": "code",
   "execution_count": null,
   "metadata": {},
   "outputs": [],
   "source": [
    "ssh -t $JUPYTERHUB_USER@arvine \"/opt/mssql-tools/bin/sqlcmd -U sa -P HPeinvent@ -S $HOST_NAME -Q \\\"SELECT TOP 10 StockItemID, StockItemName FROM WideWorldImporters.Warehouse.StockItems ORDER BY StockItemID\\\" \""
   ]
  },
  {
   "cell_type": "markdown",
   "metadata": {},
   "source": [
    "</br></br>\n",
    "<div class=\"alert\" style=\"background-color:#FFAD33;color:#fff;width:100%\" role=\"alert\">\n",
    "  <p style=\"font-size:20px;display: block;text-align:center;margin-left: auto;margin-right: auto;\"><i class=\"fas fa-4x fa-smile\"></i>&nbsp;&nbsp;Congratulations on completing the module&nbsp;&nbsp;<i class=\"fas fa-4x fa-praying-hands\"></i></p>\n",
    "</div>  "
   ]
  },
  {
   "cell_type": "markdown",
   "metadata": {},
   "source": [
    "<br><br>\n",
    "\n",
    "## <i class=\"fas fa-2x fa-map-marker-alt\" style=\"color:#FFAD33;\"></i>&nbsp;&nbsp;Next Steps\n",
    "\n",
    "Create volumes Snapshot Persistent Volume Claim (PVC)\n"
   ]
  },
  {
   "cell_type": "markdown",
   "metadata": {},
   "source": [
    "</br></br>\n",
    " <a href=\"HPEMAPR-SQL-snap.ipynb#snap\" target=\"New\" title=\"Next: Create volumes Snapshot Persistent Volume Claim (PVC)\"><button type=\"submit\"  class=\"btn btn-lg btn-block\" style=\"background-color:#FFAD33;color:#fff;position:relative;width:10%; height: 30px;float: right;\"><b>Next</b></button></a>\n",
    " <a href=\"HPEMAPR-SQL-DB1.ipynb#DB1\" target=\"New\" title=\"Back: Use the persisted data\"><button type=\"submit\"  class=\"btn btn-lg btn-block\" style=\"background-color:#FFAD33;color:#fff;position:relative;width:10%; height: 30px;float: left;\"><b>Back</b></button></a>"
   ]
  },
  {
   "cell_type": "markdown",
   "metadata": {},
   "source": [
    "<p style=\"display: block;margin-left: auto;margin-right: auto;width:10%;\" ><a href=\"#clone1\" title=\"TOP\"><i class=\"fas fa-2x fa-chevron-circle-up\" style=\"color:#FFAD33;\"></i></a></p>"
   ]
  },
  {
   "cell_type": "code",
   "execution_count": null,
   "metadata": {},
   "outputs": [],
   "source": []
  }
 ],
 "metadata": {
  "kernelspec": {
   "display_name": "Bash",
   "language": "bash",
   "name": "bash"
  },
  "language_info": {
   "codemirror_mode": "shell",
   "file_extension": ".sh",
   "mimetype": "text/x-sh",
   "name": "bash"
  }
 },
 "nbformat": 4,
 "nbformat_minor": 4
}
