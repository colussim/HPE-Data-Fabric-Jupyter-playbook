{
 "cells": [
  {
   "cell_type": "markdown",
   "metadata": {},
   "source": [
    "<style type=\"text/css\" media=\"screen\">\n",
    "a:link { color:#FFFFFF; text-decoration: none; }\n",
    "a:visited { color:#FFFFFF; text-decoration: none; }\n",
    "a:hover { color:#FFFFFF; text-decoration: none; }\n",
    "a:active { color:#FFFFFF; text-decoration: underline; }\n",
    "</style>\n",
    "# <A id=\"DB1\" style=\"text-decoration:none;\">HPE CSI Driver Data Fabric for Kubernetes</a>\n",
    "![](imgs/hpedevlogo.svg)\n",
    "<img src=\"imgs/mapr-ar21.gif\" alt=\"csi logo\" style=\"float: right;\">\n",
    "<img src=\"imgs/csilogo1.png\" alt=\"csi logo\" style=\"float: right;\">\n",
    "## How to deploy SQL Server 2019 with an Operator on Kubernetes Cluster\n",
    "\n",
    "\n",
    "Emmanuel COLUSSI \n",
    "<br>\n",
    "<br>\n",
    "<br>\n",
    "<br>\n",
    "\n",
    "## Deploying SQL Server workload\n",
    "### Use the persisted data\n",
    "</br>\n",
    "<i class=\"fas fa-2x fa-info-circle\" style=\"color:#FFAD33;\"></i>\n",
    "<p>just a backtrack , in the previous steps , we learned about the various advantages running a single instance of SQL Server in a Kubernetes Cluster.\n",
    "One of the advantages is that Kubernetes always makes sure through the ReplicaSet that the requested amount of pods are always online, healthy, and available</p>\n",
    "<p>In our case we have requested in the ReplicaSet 1 pod, therefore 1 pod will be always available.</p>\n",
    "</br>\n",
    "\n",
    "<div class=\"alert\" style=\"background-color:#FFAD33;color:#fff;\" role=\"alert\">\n",
    "     <p class=\"mb-0\"><i class=\"fas fa-sync-alt\"></i>&nbsp;&nbsp;copy the content of the command from the next cell and paste it into the <b>Terminal 1</b> window and execute this command with the Enter key : </p>\n",
    "    </p><i class=\"fas fa-eye\"></i>&nbsp;&nbsp;This commande show pod status</p>\n",
    "\n",
    "</div>"
   ]
  },
  {
   "cell_type": "raw",
   "metadata": {},
   "source": [
    "ssh -t $JUPYTERHUB_USER@arvine \"sql-mapr/getstatuspod-$JUPYTERHUB_USER.sh\""
   ]
  },
  {
   "cell_type": "markdown",
   "metadata": {},
   "source": [
    "</br>\n",
    "<i class=\"fas fa-2x fa-trash-alt\" style=\"color:#FFAD33;\"></i>&nbsp;&nbsp;<b>Let’s try that, and delete our one and only pod that is currently running SQL...</b>"
   ]
  },
  {
   "cell_type": "markdown",
   "metadata": {},
   "source": [
    "<div class=\"alert\" style=\"background-color:#FFAD33;color:#fff;\" role=\"alert\">\n",
    "    <p class=\"mb-0\"><i class=\"fas fa-sync-alt\"></i>&nbsp;&nbsp;Run the scripts in the next Cells with button <i class=\"fas fa-play\"></i> : </p>\n",
    "    <ul>\n",
    "        <li> This script execute the commande to delete the pod: <b><i>kubectl delete pods mssql-deployment-xxxxx</i></b></li>\n",
    "    </ul>    \n",
    " \n",
    "</div> "
   ]
  },
  {
   "cell_type": "code",
   "execution_count": null,
   "metadata": {},
   "outputs": [],
   "source": [
    "ssh -t $JUPYTERHUB_USER@arvine \"sql-mapr/deletepod-mssql.sh $JUPYTERHUB_USER\""
   ]
  },
  {
   "cell_type": "markdown",
   "metadata": {},
   "source": [
    "</br>\n",
    "<i class=\"fas fa-2x fa-info-circle\" style=\"color:#FFAD33;\"></i>\n",
    "\n",
    "> <i class=\"fas fa-eye\" style=\"color:#FFAD33;\"></i>&nbsp;&nbsp;You can see that Kubernetes itself has triggered the creation of a new pod.</br>\n",
    "<i class=\"fas fa-stopwatch\" style=\"color:#FFAD33;\"></i>&nbsp;&nbsp;And after some time that pod will be again in the Running state.</br>\n",
    "<i class=\"fas fa-laugh-beam\" style=\"color:#FFAD33;\"></i>&nbsp;&nbsp;The great thing about that is now that the Persistent Volume of the old pod was attached to new pod, and therefore we haven’t lost any data!"
   ]
  },
  {
   "cell_type": "markdown",
   "metadata": {},
   "source": [
    "</br>\n",
    "<i class=\"fas fa-2x fa-hand-point-right\" style=\"color:#FFAD33;\"></i>&nbsp;&nbsp;We will check if we can connect to our database"
   ]
  },
  {
   "cell_type": "markdown",
   "metadata": {},
   "source": [
    "The SQL Server TCP port connexion is a same in previous module , choose one of the kubernetes cluster hosts :</br>\n",
    "<ul class=\"list-group\">\n",
    "    <li class=\"list-group-item\"><i class=\"fas fa-server\" style=\"color:#FFAD33;\"></i>&nbsp;&nbsp;arvine \n",
    "    <li class=\"list-group-item\"><i class=\"fas fa-server\" style=\"color:#FFAD33;\"></i>&nbsp;&nbsp;garanoir\n",
    "    <li class=\"list-group-item\"><i class=\"fas fa-server\" style=\"color:#FFAD33;\"></i>&nbsp;&nbsp;gamaret\n",
    "    <li class=\"list-group-item\"><i class=\"fas fa-server\" style=\"color:#FFAD33;\"></i>&nbsp;&nbsp;syrah   \n",
    "</ul>\n",
    "<p><i class=\"fas fa-check\" style=\"color:#FFAD33;\"></i>&nbsp;&nbsp;We will check the connection port.</p>\n",
    "<p>Get NodePort to used by the mssql-service :</p>\n",
    "\n",
    "<div class=\"alert\" style=\"background-color:#FFAD33;color:#fff;\" role=\"alert\">\n",
    "    <p class=\"mb-0\"><i class=\"fas fa-sync-alt\"></i>&nbsp;&nbsp;Run the commands in the next Cells with button <i class=\"fas fa-play\"></i> : </p>\n",
    "    <ul>\n",
    "        <li> Get NodePort : TCP port binding SQL Server service</li>\n",
    "        <li> Set varibale HOST_NAME : IP_NODE_KUBERNETES,TPC_PORT : Just change the port</li>\n",
    "        <li>Run a query to view the top 10 items in the <b>Warehouse.StockItems table</b>, the result must be the same as the previous module</li>\n",
    "    </ul>    \n",
    " \n",
    "</div> \n"
   ]
  },
  {
   "cell_type": "code",
   "execution_count": null,
   "metadata": {},
   "outputs": [],
   "source": [
    "ssh -t $JUPYTERHUB_USER@arvine \"sql-mapr/get-nodeport-services.sh $JUPYTERHUB_USER\""
   ]
  },
  {
   "cell_type": "code",
   "execution_count": null,
   "metadata": {},
   "outputs": [],
   "source": [
    "export HOST_NAME=\"arvine,30351\""
   ]
  },
  {
   "cell_type": "code",
   "execution_count": null,
   "metadata": {},
   "outputs": [],
   "source": [
    "ssh -t $JUPYTERHUB_USER@arvine \"/opt/mssql-tools/bin/sqlcmd -U sa -P HPeinvent@ -S $HOST_NAME -Q 'SELECT TOP 10 StockItemID, StockItemName FROM WideWorldImporters.Warehouse.StockItems ORDER BY StockItemID' \" "
   ]
  },
  {
   "cell_type": "markdown",
   "metadata": {},
   "source": [
    "</br>\n",
    "<i class=\"fas fa-2x fa-exclamation-circle\" style=\"color:#FFAD33;\"></i>&nbsp;&nbsp;You can now stop the pod status monitor"
   ]
  },
  {
   "cell_type": "markdown",
   "metadata": {},
   "source": [
    "<div class=\"alert\" style=\"background-color:#FFAD33;color:#fff;\" role=\"alert\">\n",
    "    <p class=\"mb-0\"><i class=\"fas fa-sync-alt\"></i>&nbsp;&nbsp;Run the script in the next Cells with button <i class=\"fas fa-play\"></i> : </p>\n",
    "</div> "
   ]
  },
  {
   "cell_type": "code",
   "execution_count": null,
   "metadata": {},
   "outputs": [],
   "source": [
    "ssh -t $JUPYTERHUB_USER@arvine \"sql-mapr/killstatus.sh $JUPYTERHUB_USER\""
   ]
  },
  {
   "cell_type": "markdown",
   "metadata": {},
   "source": [
    "</br></br>\n",
    "<div class=\"alert\" style=\"background-color:#FFAD33;color:#fff;width:100%\" role=\"alert\">\n",
    "  <p style=\"font-size:20px;display: block;text-align:center;margin-left: auto;margin-right: auto;\"><i class=\"fas fa-4x fa-smile\"></i>&nbsp;&nbsp;Congratulations on completing the module&nbsp;&nbsp;<i class=\"fas fa-4x fa-praying-hands\"></i></p>\n",
    "</div>  "
   ]
  },
  {
   "cell_type": "markdown",
   "metadata": {},
   "source": [
    "<br><br>\n",
    "\n",
    "## <i class=\"fas fa-2x fa-map-marker-alt\" style=\"color:#FFAD33;\"></i>&nbsp;&nbsp;Next Steps\n",
    "\n",
    "Clone Persistent Volume Claim (PVC)"
   ]
  },
  {
   "cell_type": "markdown",
   "metadata": {},
   "source": [
    "<a href=\"HPEMAPR-SQL-clone.ipynb#clone1\" target=\"New\" title=\"Next: Use the Clone Persistent volume Claim\"><button type=\"submit\"  class=\"btn btn-lg btn-block\" style=\"background-color:#FFAD33;color:#fff;position:relative;width:10%; height: 30px;float: right;\"><b>Next</b></button></a>\n",
    " <a href=\"HPEMAPR-SQL-DB.ipynb#restore\" target=\"New\" title=\"Back: Restore Database\"><button type=\"submit\"  class=\"btn btn-lg btn-block\" style=\"background-color:#FFAD33;color:#fff;position:relative;width:10%; height: 30px;float: left;\"><b>Back</b></button></a>"
   ]
  },
  {
   "cell_type": "markdown",
   "metadata": {},
   "source": [
    "<p style=\"display: block;margin-left: auto;margin-right: auto;width:10%;\" ><a href=\"#DB1\" title=\"TOP\"><i class=\"fas fa-2x fa-chevron-circle-up\" style=\"color:#FFAD33;\"></i></a></p>\n",
    "   "
   ]
  },
  {
   "cell_type": "code",
   "execution_count": null,
   "metadata": {},
   "outputs": [],
   "source": []
  }
 ],
 "metadata": {
  "kernelspec": {
   "display_name": "Bash",
   "language": "bash",
   "name": "bash"
  },
  "language_info": {
   "codemirror_mode": "shell",
   "file_extension": ".sh",
   "mimetype": "text/x-sh",
   "name": "bash"
  }
 },
 "nbformat": 4,
 "nbformat_minor": 4
}
