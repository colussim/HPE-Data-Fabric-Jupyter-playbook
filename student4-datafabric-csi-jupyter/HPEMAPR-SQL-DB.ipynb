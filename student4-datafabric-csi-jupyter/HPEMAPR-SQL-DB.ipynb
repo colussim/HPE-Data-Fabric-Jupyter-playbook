{
 "cells": [
  {
   "cell_type": "markdown",
   "metadata": {},
   "source": [
    "<style type=\"text/css\" media=\"screen\">\n",
    "a:link { color:#FFFFFF; text-decoration: none; }\n",
    "a:visited { color:#FFFFFF; text-decoration: none; }\n",
    "a:hover { color:#FFFFFF; text-decoration: none; }\n",
    "a:active { color:#FFFFFF; text-decoration: underline; }\n",
    "</style>\n",
    "\n",
    "# <a id=\"restore\" style=\"text-decoration:none;\">HPE CSI Driver Data Fabric for Kubernetes</a>\n",
    "![](imgs/hpedevlogo.svg)\n",
    "<img src=\"imgs/mapr-ar21.gif\" alt=\"csi logo\" style=\"float: right;\">\n",
    "<img src=\"imgs/csilogo1.png\" alt=\"csi logo\" style=\"float: right;\">\n",
    "## How to deploy SQL Server 2019 with an Operator on Kubernetes Cluster\n",
    "\n",
    "Emmanuel COLUSSI – WW HPE Customer Innovation Center\n",
    "<br>\n",
    "<br>\n",
    "<br>\n",
    "<br>\n",
    "\n",
    "## Deploying SQL Server workload\n",
    "### Restore Database\n",
    "</br>\n",
    "<i class=\"fas fa-2x fa-walking\" style=\"color:#FFAD33;\"></i>&nbsp;&nbsp;STEP 1: Get POD Name :</br></br>\n",
    "\n",
    "<div class=\"alert\" style=\"background-color:#FFAD33;color:#fff;\" role=\"alert\">\n",
    "    <p class=\"mb-0\"><i class=\"fas fa-sync-alt\"></i>&nbsp;&nbsp;Run the commands in the next Cells with button <i class=\"fas fa-play\"></i> : </p>\n",
    "    <ul>\n",
    "        <li> Get POD Name</li>\n",
    "        <li> Set variable POD_NAME : with our POD Name value</li>\n",
    "    </ul>    \n",
    " \n",
    "</div> \n"
   ]
  },
  {
   "cell_type": "code",
   "execution_count": null,
   "metadata": {},
   "outputs": [],
   "source": [
    "ssh -t $JUPYTERHUB_USER@arvine \"kubectl get pods -n mapr-$JUPYTERHUB_USER|grep mssql-deployment-$JUPYTERHUB_USER|awk '{print$1}'\""
   ]
  },
  {
   "cell_type": "code",
   "execution_count": null,
   "metadata": {},
   "outputs": [],
   "source": [
    "export POD_NAME=\"mssql-deployment-student4-746c69c77b-7psn4\""
   ]
  },
  {
   "cell_type": "markdown",
   "metadata": {},
   "source": [
    "</br>\n",
    "<i class=\"fas fa-2x fa-walking\" style=\"color:#FFAD33;\"></i>&nbsp;&nbsp;STEP 2: create a backup folder"
   ]
  },
  {
   "cell_type": "markdown",
   "metadata": {},
   "source": [
    "<div class=\"alert\" style=\"background-color:#FFAD33;color:#fff;\" role=\"alert\">\n",
    "    <p class=\"mb-0\"><i class=\"fas fa-sync-alt\"></i>&nbsp;&nbsp;Run the command in the next Cell with button <i class=\"fas fa-play\"></i> : </p>\n",
    "</div> "
   ]
  },
  {
   "cell_type": "code",
   "execution_count": null,
   "metadata": {},
   "outputs": [],
   "source": [
    "ssh -t $JUPYTERHUB_USER@arvine \"kubectl -n mapr-$JUPYTERHUB_USER exec -it $POD_NAME -- mkdir /var/opt/mssql/backup\""
   ]
  },
  {
   "cell_type": "markdown",
   "metadata": {},
   "source": [
    "</br>\n",
    "<i class=\"fas fa-2x fa-walking\" style=\"color:#FFAD33;\"></i>&nbsp;&nbsp;STEP 3: Copy data backup files"
   ]
  },
  {
   "cell_type": "markdown",
   "metadata": {},
   "source": [
    "<div class=\"alert\" style=\"background-color:#FFAD33;color:#fff;\" role=\"alert\">\n",
    "    <p class=\"mb-0\"><i class=\"fas fa-sync-alt\"></i>&nbsp;&nbsp;Run the command in the next Cells with button <i class=\"fas fa-play\"></i> : </p>\n",
    "</div> "
   ]
  },
  {
   "cell_type": "code",
   "execution_count": null,
   "metadata": {},
   "outputs": [],
   "source": [
    "ssh -t $JUPYTERHUB_USER@arvine \"kubectl cp /home/mssql/db/WideWorldImporters-Full.bak $POD_NAME:/var/opt/mssql/backup -n mapr-$JUPYTERHUB_USER\""
   ]
  },
  {
   "cell_type": "code",
   "execution_count": null,
   "metadata": {},
   "outputs": [],
   "source": [
    "ssh -t $JUPYTERHUB_USER@arvine \"kubectl cp /home/mssql/db/restorewide.sql $POD_NAME:/var/opt/mssql/backup -n mapr-$JUPYTERHUB_USER\""
   ]
  },
  {
   "cell_type": "markdown",
   "metadata": {},
   "source": [
    "<i class=\"fas fa-2x fa-info-circle\" style=\"color:#FFAD33;\"></i>\n",
    "> check if files are copied.we must have 2 files: ***restorewide.sql*** and ***WideWorldImporters-Full.bak*** &nbsp;&nbsp;<i class=\"fas fa-check-circle\" style=\"color:#FFAD33;\"></i>"
   ]
  },
  {
   "cell_type": "markdown",
   "metadata": {},
   "source": [
    "<div class=\"alert\" style=\"background-color:#FFAD33;color:#fff;\" role=\"alert\">\n",
    "    <p class=\"mb-0\"><i class=\"fas fa-sync-alt\"></i>&nbsp;&nbsp;Run the command in the next Cell with button <i class=\"fas fa-play\"></i> : </p>\n",
    "</div> "
   ]
  },
  {
   "cell_type": "code",
   "execution_count": null,
   "metadata": {},
   "outputs": [],
   "source": [
    "ssh -t $JUPYTERHUB_USER@arvine \"kubectl -n mapr-$JUPYTERHUB_USER exec -it $POD_NAME -- ls /var/opt/mssql/backup \""
   ]
  },
  {
   "cell_type": "markdown",
   "metadata": {},
   "source": [
    "</br>\n",
    "<i class=\"fas fa-2x fa-walking\" style=\"color:#FFAD33;\"></i>&nbsp;&nbsp;STEP 4: Now now we can restore our Database&nbsp;&nbsp;<i class=\"fas fa-2x fa-database\" style=\"color:#FFAD33;\"></i>"
   ]
  },
  {
   "cell_type": "markdown",
   "metadata": {},
   "source": [
    "Get NodePort to used by the mssql-service\n",
    "\n",
    "<div class=\"alert\" style=\"background-color:#FFAD33;color:#fff;\" role=\"alert\">\n",
    "    <p class=\"mb-0\"><i class=\"fas fa-sync-alt\"></i>&nbsp;&nbsp;Run the commands in the next Cells with button <i class=\"fas fa-play\"></i> : </p>\n",
    "    <ul>\n",
    "        <li> Get NodePort : TCP port binding SQL Server service</li>\n",
    "        <li> Set varibale HOST_NAME : IP_NODE_KUBERNETES,TPC_PORT : Just change the port</li>\n",
    "        <li> Run restore database </li>\n",
    "    </ul>    \n",
    " \n",
    "</div> "
   ]
  },
  {
   "cell_type": "code",
   "execution_count": null,
   "metadata": {},
   "outputs": [],
   "source": [
    "ssh -t $JUPYTERHUB_USER@arvine \"sql-mapr/get-nodeport-services.sh $JUPYTERHUB_USER\""
   ]
  },
  {
   "cell_type": "code",
   "execution_count": null,
   "metadata": {},
   "outputs": [],
   "source": [
    "export HOST_NAME=\"arvine,30351\""
   ]
  },
  {
   "cell_type": "code",
   "execution_count": null,
   "metadata": {},
   "outputs": [],
   "source": [
    "ssh -t $JUPYTERHUB_USER@arvine \"/opt/mssql-tools/bin/sqlcmd -U sa -P HPeinvent@ -S $HOST_NAME -i sql-mapr/restorewide.sql\""
   ]
  },
  {
   "cell_type": "markdown",
   "metadata": {},
   "source": [
    "<p><i class=\"fas fa-2x fa-smile\" style=\"color:#FFAD33;\"></i>&nbsp;&nbsp;After a few seconds the database is restored.<img src=\"imgs/cofee1.png\" alt=\"csi logo\" width=\"200px\" height=\"181px\" style=\"float: right;\">\n",
    "</br>"
   ]
  },
  {
   "cell_type": "markdown",
   "metadata": {},
   "source": [
    "</br>\n",
    "<i class=\"fas fa-2x fa-walking\" style=\"color:#FFAD33;\"></i>&nbsp;&nbsp;STEP 5: Verify the restored database&nbsp;&nbsp;<i class=\"fas fa-check-circle\" style=\"color:#FFAD33;\"></i>"
   ]
  },
  {
   "cell_type": "markdown",
   "metadata": {},
   "source": [
    "\n",
    "<div class=\"alert\" style=\"background-color:#FFAD33;color:#fff;\" role=\"alert\">\n",
    "    <p class=\"mb-0\"><i class=\"fas fa-sync-alt\"></i>&nbsp;&nbsp;Run the command in the next Cell with button <i class=\"fas fa-play\"></i> : </p>\n",
    "    <p><i class=\"fas fa-list-ol\"></i>&nbsp;&nbsp;The query to display a list of database names in your container</p>\n",
    "</div> "
   ]
  },
  {
   "cell_type": "code",
   "execution_count": null,
   "metadata": {},
   "outputs": [],
   "source": [
    "ssh -t $JUPYTERHUB_USER@arvine \"/opt/mssql-tools/bin/sqlcmd -U sa -P HPeinvent@ -S $HOST_NAME -Q 'SELECT Name FROM sys.Databases'\""
   ]
  },
  {
   "cell_type": "markdown",
   "metadata": {},
   "source": [
    "<div class=\"alert\" style=\"background-color:#FFAD33;color:#fff;\" role=\"alert\">\n",
    "    <p class=\"mb-0\"><i class=\"fas fa-sync-alt\"></i>&nbsp;&nbsp;Run the command in the next Cell with button <i class=\"fas fa-play\"></i> : </p>\n",
    "    <p><i class=\"fas fa-list-ol\"></i>&nbsp;&nbsp;Run a query to view the top 10 items in the <b>Warehouse.StockItems tabler</b></p>\n",
    "</div> "
   ]
  },
  {
   "cell_type": "code",
   "execution_count": null,
   "metadata": {},
   "outputs": [],
   "source": [
    "ssh -t $JUPYTERHUB_USER@arvine \"/opt/mssql-tools/bin/sqlcmd -U sa -P HPeinvent@ -S $HOST_NAME -Q 'SELECT TOP 10 StockItemID, StockItemName FROM WideWorldImporters.Warehouse.StockItems ORDER BY StockItemID'\""
   ]
  },
  {
   "cell_type": "markdown",
   "metadata": {},
   "source": [
    "</br></br>\n",
    "<div class=\"alert\" style=\"background-color:#FFAD33;color:#fff;width:100%\" role=\"alert\">\n",
    "  <p style=\"font-size:20px;display: block;text-align:center;margin-left: auto;margin-right: auto;\"><i class=\"fas fa-4x fa-smile\"></i>&nbsp;&nbsp;Congratulations on completing the module&nbsp;&nbsp;<i class=\"fas fa-4x fa-praying-hands\"></i></p>\n",
    "</div>     "
   ]
  },
  {
   "cell_type": "markdown",
   "metadata": {},
   "source": [
    "<br><br>\n",
    "\n",
    "## <i class=\"fas fa-2x fa-map-marker-alt\" style=\"color:#FFAD33;\"></i>&nbsp;&nbsp;Next Steps\n",
    "\n",
    "Use the persisted data"
   ]
  },
  {
   "cell_type": "markdown",
   "metadata": {},
   "source": [
    "\n",
    " <a href=\"HPEMAPR-SQL-DB1.ipynb#DB1\" target=\"New\" title=\"Next: Use the persisted data\"><button type=\"submit\"  class=\"btn btn-lg btn-block\" style=\"background-color:#FFAD33;color:#fff;position:relative;width:10%; height: 30px;float: right;\"><b>Next</b></button></a>\n",
    " \n",
    " <a href=\"HPEMAPR-SQL.ipynb#sqld\" target=\"New\" title=\"Back: Kubernetes Deployments\"><button type=\"submit\"  class=\"btn btn-lg btn-block\" style=\"background-color:#FFAD33;color:#fff;position:relative;width:10%; height: 30px;float: left;\"><b>Back</b></button></a>"
   ]
  },
  {
   "cell_type": "markdown",
   "metadata": {},
   "source": [
    "<p style=\"display: block;margin-left: auto;margin-right: auto;width:10%;\" ><a href=\"#restore\" title=\"TOP\"><i class=\"fas fa-2x fa-chevron-circle-up\" style=\"color:#FFAD33;\"></i></a></p>"
   ]
  },
  {
   "cell_type": "code",
   "execution_count": null,
   "metadata": {},
   "outputs": [],
   "source": []
  }
 ],
 "metadata": {
  "kernelspec": {
   "display_name": "Bash",
   "language": "bash",
   "name": "bash"
  },
  "language_info": {
   "codemirror_mode": "shell",
   "file_extension": ".sh",
   "mimetype": "text/x-sh",
   "name": "bash"
  }
 },
 "nbformat": 4,
 "nbformat_minor": 4
}
