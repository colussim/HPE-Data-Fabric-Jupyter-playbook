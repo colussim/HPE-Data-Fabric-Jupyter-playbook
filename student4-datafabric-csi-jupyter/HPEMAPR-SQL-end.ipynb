{
 "cells": [
  {
   "cell_type": "markdown",
   "metadata": {},
   "source": [
    "<style type=\"text/css\" media=\"screen\">\n",
    "a:link { color:#FFFFFF; text-decoration: none; }\n",
    "a:visited { color:#FFFFFF; text-decoration: none; }\n",
    "a:hover { color:#FFFFFF; text-decoration: none; }\n",
    "a:active { color:#FFFFFF; text-decoration: underline; }\n",
    "</style>\n",
    "# <A id=\"end\" style=\"text-decoration:none;\">HPE CSI Driver Data Fabric for Kubernetes</a>\n",
    "![](imgs/hpedevlogo.svg)\n",
    "<img src=\"imgs/mapr-ar21.gif\" alt=\"csi logo\" style=\"float: right;\">\n",
    "<img src=\"imgs/csilogo1.png\" alt=\"csi logo\" style=\"float: right;\">\n",
    "## How to deploy SQL Server 2019 with an Operator on Kubernetes Cluster\n",
    "\n",
    "Emmanuel COLUSSI \n",
    "<br>\n",
    "<br>\n",
    "<br>\n",
    "<br>\n",
    "\n",
    "\n",
    "## <i class=\"fas fa-2x fa-ban\" style=\"color:#FFAD33;\"></i>&nbsp;&nbsp;<span>Before finishing</span>&nbsp;&nbsp; <i class=\"fas fa-2x fa-smile\" style=\"color:#FFAD33;\"></i>\n",
    "Before leaving this demo, please start the reset of the platform:\n",
    "<div class=\"alert\" style=\"background-color:#FFAD33;color:#fff;\" role=\"alert\">\n",
    "  <p class=\"mb-0\"><i class=\"fas fa-sync-alt\"></i>&nbsp;&nbsp;Run the following command in the next Cell with button <i class=\"fas fa-play\"></i> : </div>\n",
    "\n"
   ]
  },
  {
   "cell_type": "code",
   "execution_count": null,
   "metadata": {},
   "outputs": [],
   "source": [
    "ssh -t $JUPYTERHUB_USER@arvine \"sql-mapr/resetlab.sh mapr-$JUPYTERHUB_USER\""
   ]
  },
  {
   "cell_type": "markdown",
   "metadata": {},
   "source": [
    "<br>\n",
    "<br>\n",
    "<br>\n",
    "\n",
    "## <i class=\"fas fa-2x fa-list-alt\" style=\"color:#FFAD33;\"></i>&nbsp;&nbsp;Conclusion\n",
    "\n",
    "<p>As you can see, it is quite easy to set up and use HPE MapR CSI Driver .</p>\n",
    "<p>This version include all the latest capabilities in the CSI specification :</p>\n",
    "<ul>\n",
    "    <li>Dynamic Provisionning : Parameter Overloading</li>\n",
    "    <li>Volume Snapshots</li>\n",
    "    <li>Data Sources : \n",
    "   Cloning - Volume Snapshot and Restore\n",
    "    </li>\n",
    "    <li>Volume Expansion</li>\n",
    "</ul>\n",
    "\n",
    "\n",
    "## <i class=\"fas fa-2x fa-link\" style=\"color:#FFAD33;\"></i>&nbsp;&nbsp;Resources\n",
    "\n",
    "\n",
    "\n",
    "HPE MapR CSI Driver for Kubernetes on GitHub :https://github.com/mapr/mapr-csi\n",
    "\n",
    "HPE MapR CSI documentation :\n",
    " https://docs.datafabric.hpe.com/62/CSIdriver/csi_using_and_troubleshooting.html\n",
    "\n",
    "\n",
    "<br>\n",
    "<table class=\"table\" style=\"font-size: 14px;\">\n",
    "  <tbody>\n",
    "    <tr>\n",
    "        <td style=\"width:50%;\"><h1 style=\"font-size:100px;\" >Thank You</h1></td>\n",
    "        <td><img src=\"imgs/grommet.png\" alt=\"csi logo\" style=\"float: right;width:50%\"></td>\n",
    " </tr>  \n",
    " </tbody>\n",
    "</table>"
   ]
  },
  {
   "cell_type": "markdown",
   "metadata": {},
   "source": [
    "<a href=\"HPEMAPR-SQL-Intro.ipynb#intro\" target=\"New\" title=\"Back: About This demontration\"><i class=\"fas fa-2x fa-home\" style=\"color:#FFAD33;\"></i></a>"
   ]
  },
  {
   "cell_type": "code",
   "execution_count": null,
   "metadata": {},
   "outputs": [],
   "source": []
  }
 ],
 "metadata": {
  "kernelspec": {
   "display_name": "Bash",
   "language": "bash",
   "name": "bash"
  },
  "language_info": {
   "codemirror_mode": "shell",
   "file_extension": ".sh",
   "mimetype": "text/x-sh",
   "name": "bash"
  }
 },
 "nbformat": 4,
 "nbformat_minor": 4
}
