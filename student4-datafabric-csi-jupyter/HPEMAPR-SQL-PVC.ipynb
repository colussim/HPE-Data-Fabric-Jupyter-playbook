{
 "cells": [
  {
   "cell_type": "markdown",
   "metadata": {},
   "source": [
    "<link rel=\"stylesheet\" type=\"text/css\" href=\"css/bootstrap.min.css\">\n",
    "<link rel=\"stylesheet\" type=\"text/css\" href=\"css/fontawesome.min.css\">\n",
    "<style type=\"text/css\" media=\"screen\">\n",
    "a:link { color:#FFFFFF; text-decoration: none; }\n",
    "a:visited { color:#FFFFFF; text-decoration: none; }\n",
    "a:hover { color:#FFFFFF; text-decoration: none; }\n",
    "a:active { color:#FFFFFF; text-decoration: underline; } \n",
    "</style>\n",
    "\n",
    "# <a id=\"pvc\" style=\"text-decoration:none;\">HPE CSI Driver Data Fabric for Kubernetes</a>\n",
    "![](imgs/hpedevlogo.svg)\n",
    "<img src=\"imgs/mapr-ar21.gif\" alt=\"csi logo\" style=\"float: right;\">\n",
    "<img src=\"imgs/csilogo1.png\" alt=\"csi logo\" style=\"float: right;\">\n",
    "## How to deploy SQL Server 2019 with an Operator on Kubernetes Cluster\n",
    "\n",
    "Emmanuel COLUSSI \n",
    "<br>\n",
    "<br>\n",
    "<br>\n",
    "<br>\n",
    "\n",
    "## Create A Persistent Volume Claim (PVC)\n",
    "A PersistentVolumeClaim (PVC) is a request for storage by a user. It is similar to a Pod. Pods consume node resources and PVCs consume PV resources. Pods can request specific levels of resources (CPU and Memory). Claims can request specific size and access modes (e.g., they can be mounted once read/write or many times read-only).</br>\n",
    "While PersistentVolumeClaims allow a user to consume abstract storage resources, it is common that users need PersistentVolumes with varying properties, such as performance, for different problems.<br>\n",
    "\n",
    "<table class=\"table\" style=\"font-size: 14px;\">\n",
    "  <tbody>\n",
    "    <tr>\n",
    "        <td style=\"width:40%;\"><img src=\"imgs/mapr_cs_storage_dynamic1.png\" alt=\"csi logo\" style=\"width:500px\"></td>\n",
    "\n",
    "\n",
    "<td>\n",
    "<div style=\"display: inline-table;vertical-align: middle;width: 20px;height: 20px;background-color: #fda006;;border-radius: 50%;\">\n",
    "  <span style=\"display: table-cell;vertical-align: middle;text-align: center;\">1</span>\n",
    "</div>\n",
    "The user creates a persistent volume claim (PVC) that specifies the storage type, storage class, size in gigabytes, number of IOPS, and billing type. The storage class determines the type of storage that is provisioned and the allowed ranges for size and IOPS. Creating a PVC in a cluster automatically triggers the storage plug-in for the requested type of storage to provision storage with the given specification.<br><br>\n",
    "<div style=\"display: inline-table;vertical-align: middle;width: 20px;height: 20px;background-color: #fda006;;border-radius: 50%;\">\n",
    "  <span style=\"display: table-cell;vertical-align: middle;text-align: center;\">2</span>\n",
    "</div>\n",
    " The storage device is automatically ordered and provisioned into your HPE Storage infrastructure account. The billing cycle for your storage device starts.<br><br>\n",
    "<div style=\"display: inline-table;vertical-align: middle;width: 20px;height: 20px;background-color: #fda006;;border-radius: 50%;\">\n",
    "  <span style=\"display: table-cell;vertical-align: middle;text-align: center;\">3</span>\n",
    "</div>\n",
    "The storage plug-in automatically creates a persistent volume (PV) in the cluster, a virtual storage device that points to the actual storage device in your HPE Storage infrastructure account.<br><br>\n",
    "<div style=\"display: inline-table;vertical-align: middle;width: 20px;height: 20px;background-color: #fda006;;border-radius: 50%;\">\n",
    "  <span style=\"display: table-cell;vertical-align: middle;text-align: center;\">4</span>\n",
    "</div>\n",
    " The PVC and PV are automatically connected to each other. The status of the PVC and the PV changes to Bound. You can now use the PVC to mount persistent storage to your app. If you delete the PVC, the PV and related storage instance are also deleted.\n",
    "    </td>   </tr>  \n",
    " </tbody>\n",
    "</table>  \n",
    "\n",
    "[More information on PVC](https://kubernetes.io/docs/concepts/storage/persistent-volumes/)\n"
   ]
  },
  {
   "cell_type": "markdown",
   "metadata": {},
   "source": [
    "<link rel=\"stylesheet\" type=\"text/css\" href=\"css/bootstrap.min.css\">\n",
    "<link rel=\"stylesheet\" type=\"text/css\" href=\"css/fontawesome.min.css\">\n",
    "\n",
    "<p class=\"lead\" >In our example we will create a PVC with the following parameters : </p>\n",
    "<table class=\"table\" style=\"font-size: 14px;\">\n",
    "  <tbody>\n",
    "    <tr>\n",
    "        <td><b>name :</b> </td> <td> Name of volume create on MapR storage : mapr-sqlserver-data01-student4 </td>\n",
    "    </tr>\n",
    "    <tr>\n",
    "        <td><b>storage :</b></td><td> Size of volume</td>\n",
    "    </tr>\n",
    "    <tr>\n",
    "        <td><b>storageClassName :</b></td><td>Storage Class used for provisioning PVC : mapr-stundent4</td>\n",
    "    </tr>\n",
    " </tbody>\n",
    "</table>  \n",
    "<div class=\"alert\" style=\"background-color:#FFAD33;color:#fff;\" role=\"alert\">\n",
    "  \n",
    "  <p><i class=\"fas fa-file-alt\"></i>&nbsp;&nbsp;PVC file example : create-pvc.yaml</p>\n",
    " \n",
    "</div>"
   ]
  },
  {
   "cell_type": "raw",
   "metadata": {},
   "source": [
    "apiVersion: v1\n",
    "kind: PersistentVolumeClaim\n",
    "apiVersion: v1\n",
    "metadata:\n",
    "  name: mapr-sqlserver-data01-student4 \n",
    "  namespace: mapr-stundent4\n",
    "spec:\n",
    "  storageClassName: mapr-student4-sc \n",
    "  accessModes:\n",
    "    - ReadWriteOnce\n",
    "  resources:\n",
    "    requests:\n",
    "      storage: 50G"
   ]
  },
  {
   "cell_type": "markdown",
   "metadata": {},
   "source": [
    "<div class=\"alert\" style=\"background-color:#FFAD33;color:#fff;\" role=\"alert\">\n",
    "  <p class=\"mb-0\"><p class=\"mb-0\"><i class=\"fas fa-sync-alt\"></i>&nbsp;&nbsp;Run the command in the next Cell with button <i class=\"fas fa-play\"></i> </p>\n",
    "   \n",
    "</div>"
   ]
  },
  {
   "cell_type": "code",
   "execution_count": null,
   "metadata": {},
   "outputs": [],
   "source": [
    "ssh -t $JUPYTERHUB_USER@arvine \"kubectl create -f sql-mapr/create-pvc.yaml -n mapr-$JUPYTERHUB_USER\""
   ]
  },
  {
   "cell_type": "markdown",
   "metadata": {},
   "source": [
    "<div class=\"alert\" style=\"background-color:#FFAD33;color:#fff;\" role=\"alert\">\n",
    "  \n",
    "  <p><i class=\"fas fa-eye\"></i>&nbsp;&nbsp;show a PVC is created : </p>\n",
    "    <hr>\n",
    "    <p class=\"mb-0\"><i class=\"fas fa-sync-alt\"></i>&nbsp;&nbsp;Run the following command in the next Cell with button <i class=\"fas fa-play\"></i> </p>\n",
    " \n",
    "</div>"
   ]
  },
  {
   "cell_type": "code",
   "execution_count": null,
   "metadata": {},
   "outputs": [],
   "source": [
    "ssh -t $JUPYTERHUB_USER@arvine \"kubectl get pvc -n mapr-$JUPYTERHUB_USER\""
   ]
  },
  {
   "cell_type": "markdown",
   "metadata": {},
   "source": [
    "<i class=\"fas fa-2x fa-info-circle\" style=\"color:#FFAD33;\"></i>\n",
    "> You can connect to the MapR management web interface and see the volume created :\n",
    "[HPE MapR Management](https://10.4.0.132:8443/app/mcs/#/app/volumes) </br>\n",
    "<b>Username :</b> mapr</br>\n",
    "<b>Password :</b>     "
   ]
  },
  {
   "cell_type": "markdown",
   "metadata": {},
   "source": [
    "![](imgs/mapr-v.png)"
   ]
  },
  {
   "cell_type": "markdown",
   "metadata": {},
   "source": [
    "</br></br>\n",
    "<div class=\"alert\" style=\"background-color:#FFAD33;color:#fff;width:100%\" role=\"alert\">\n",
    "  <p style=\"font-size:20px;display: block;text-align:center;margin-left: auto;margin-right: auto;\"><i class=\"fas fa-4x fa-smile\"></i>&nbsp;&nbsp;Congratulations on completing the module&nbsp;&nbsp;<i class=\"fas fa-4x fa-praying-hands\"></i></p>\n",
    "</div>  "
   ]
  },
  {
   "cell_type": "markdown",
   "metadata": {},
   "source": [
    "<br><br>\n",
    "\n",
    "## <i class=\"fas fa-2x fa-map-marker-alt\" style=\"color:#FFAD33;\"></i>&nbsp;&nbsp;Next Steps\n",
    "\n",
    "Now we are going to deploy SQL Server workload on our Kubernetes cluster"
   ]
  },
  {
   "cell_type": "markdown",
   "metadata": {},
   "source": [
    "\n",
    " <a href=\"HPEMAPR-SQL.ipynb#sqld\" target=\"New\" title=\"Next: Deploy SQL Server Workload\"><button type=\"submit\"  class=\"btn btn-lg btn-block\" style=\"background-color:#FFAD33;color:#fff;position:relative;width:10%; height: 30px;float: right;\"><b>Next</b></button></a>\n",
    " <a href=\"HPEMAPR-SQL-SC.ipynb#sc\" target=\"New\" title=\"Back: Create Storage Class\"><button type=\"submit\"  class=\"btn btn-lg btn-block\" style=\"background-color:#FFAD33;color:#fff;position:relative;width:10%; height: 30px;float: left;\"><b>Back</b></button></a>"
   ]
  },
  {
   "cell_type": "markdown",
   "metadata": {},
   "source": [
    "<p style=\"display: block;margin-left: auto;margin-right: auto;width:10%;\" ><a href=\"#pvc\" title=\"TOP\"><i class=\"fas fa-2x fa-chevron-circle-up\" style=\"color:#FFAD33;\"></i></a></p>"
   ]
  },
  {
   "cell_type": "code",
   "execution_count": null,
   "metadata": {},
   "outputs": [],
   "source": []
  },
  {
   "cell_type": "code",
   "execution_count": null,
   "metadata": {},
   "outputs": [],
   "source": []
  }
 ],
 "metadata": {
  "kernelspec": {
   "display_name": "Bash",
   "language": "bash",
   "name": "bash"
  },
  "language_info": {
   "codemirror_mode": "shell",
   "file_extension": ".sh",
   "mimetype": "text/x-sh",
   "name": "bash"
  }
 },
 "nbformat": 4,
 "nbformat_minor": 4
}
