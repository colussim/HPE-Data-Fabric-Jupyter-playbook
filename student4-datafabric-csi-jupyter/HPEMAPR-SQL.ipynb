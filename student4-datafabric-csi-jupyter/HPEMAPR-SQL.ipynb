{
 "cells": [
  {
   "cell_type": "markdown",
   "metadata": {},
   "source": [
    "<style type=\"text/css\" media=\"screen\">\n",
    "a:link { color:#FFFFFF; text-decoration: none; }\n",
    "a:visited { color:#FFFFFF; text-decoration: none; }\n",
    "a:hover { color:#FFFFFF; text-decoration: none; }\n",
    "a:active { color:#FFFFFF; text-decoration: underline; }\n",
    "</style>\n",
    "# <a id=\"sqld\" style=\"text-decoration:none;\">HPE CSI Driver Data Fabric for Kubernetes</a>\n",
    "![](imgs/hpedevlogo.svg)\n",
    "<img src=\"imgs/mapr-ar21.gif\" alt=\"csi logo\" style=\"float: right;\">\n",
    "<img src=\"imgs/csilogo1.png\" alt=\"csi logo\" style=\"float: right;\">\n",
    "## How to deploy SQL Server 2019 with an Operator on Kubernetes Cluster\n",
    "\n",
    "Emmanuel COLUSSI \n",
    "<br>\n",
    "<br>\n",
    "<br>\n",
    "<br>\n",
    "\n",
    "## Kubernetes Deployments\n",
    "<p>The Deployment instructs Kubernetes how to create and update instances of your application. Once you've created a Deployment, the Kubernetes master schedules mentioned application instances onto individual Nodes in the cluster.</p>\n",
    "<p>Once the application instances are created, a Kubernetes Deployment Controller continuously monitors those instances. If the Node hosting an instance goes down or is deleted, the Deployment controller replaces the instance with an instance on another Node in the cluster. This provides a self-healing mechanism to address machine failure or maintenance.</p>\n",
    "<img src=\"imgs/kubdeploy.jpg\" alt=\"kubdeploy\" style=\"display: block;margin-left: auto;margin-right: auto;width:40%;\">\n",
    "\n",
    "## Deploying SQL Server workload\n",
    "### Benefits of running SQL Server in containers\n",
    "The first and most basic benefit of using containers is the simplicity and elegance of the solution. There is no need to install SQL Server or configure a failover cluster. You can deploy SQL Server containers with a single command, and Kubernetes inherently provides high availability for your SQL Server deployments.</br>\n",
    "In some cases, the availability of SQL Server instances in a container deployed on Kubernetes could be even higher than that of a workload deployed on top of a failover cluster.</br>\n",
    "However, the main benefit of running SQL Server in containers lies in high-density deployments and resource sharing. A fundamental difference between containers and virtual machines (VMs) is that unlike VMs, containers are not restricted to a fixed amount of resources for the duration that they are running. A shared pool of resources is often thrown at a group of containers running side by side on the same host. </br>\n",
    "This enables each container to consume more or fewer resources at different points in time. As long as the aggregate consumption is less than the amount of resources available in the pool, all containers get all the resources they need.</br></br>\n",
    "\n",
    "![](imgs/sqla.gif)\n",
    "\n"
   ]
  },
  {
   "cell_type": "markdown",
   "metadata": {},
   "source": [
    "<p>By containerizing MSSQL with MapR , customers have all the benefits of MSSQL, MapR, and Docker combined.</br>\n",
    "Here, MSSQL offers robust RDBM services that persist data into MapR for disaster recovery and data protection while leveraging kubernetes technologies for scalability and agility. </p>"
   ]
  },
  {
   "cell_type": "markdown",
   "metadata": {},
   "source": [
    "![](imgs/sqlmapr1.png)"
   ]
  },
  {
   "cell_type": "markdown",
   "metadata": {},
   "source": [
    "<link rel=\"stylesheet\" type=\"text/css\" href=\"css/bootstrap.min.css\">\n",
    "<link rel=\"stylesheet\" type=\"text/css\" href=\"css/fontawesome.min.css\">\n",
    "\n",
    "In this example, the container hosting the SQL Server instance is described as a Kubernetes deployment object. The deployment creates a replica set. The replica set creates the pod.</br>\n",
    "In this step, create a deployment file to describe the container based on the SQL Server mssql-server-linux Docker image. The deployment file references the mssql-server persistent volume claim, and the mssql secret that you already applied to the Kubernetes cluster. The manifest also describes a service. This service is a load balancer. The load balancer guarantees that the IP address persists after SQL Server instance is recovered.</br>\n",
    "</br>\n",
    "<i class=\"fas fa-2x fa-info-circle\" style=\"color:#FFAD33;\"></i>\n",
    "> In the first step we will create a secret file for the deployment of the instance,that configures the container image to set the SA password.</br><b>password </b>string (SHBlaW52ZW50) is a base64 encoded.\n",
    "<div class=\"alert\" style=\"background-color:#FFAD33;color:#fff;\" role=\"alert\">\n",
    "  \n",
    "  <p><i class=\"fas fa-cogs\"></i>&nbsp;&nbsp;secret file example : create-secret-mssql-student4.yaml</p>\n",
    " \n",
    "</div>\n"
   ]
  },
  {
   "cell_type": "raw",
   "metadata": {},
   "source": [
    "apiVersion: v1\n",
    "kind: Secret\n",
    "metadata:\n",
    "  name: sqlsecret-student4\n",
    "type: Opaque\n",
    "data:\n",
    "  sapassword: SFBlaW52ZW50QA== "
   ]
  },
  {
   "cell_type": "markdown",
   "metadata": {},
   "source": [
    "<div class=\"alert\" style=\"background-color:#FFAD33;color:#fff;\" role=\"alert\">\n",
    "  <p class=\"mb-0\"><i class=\"fas fa-sync-alt\"></i>&nbsp;&nbsp;Run the command in the next Cell with button <i class=\"fas fa-play\"></i> </p>\n",
    "  \n",
    "  \n",
    "</div>"
   ]
  },
  {
   "cell_type": "code",
   "execution_count": null,
   "metadata": {},
   "outputs": [],
   "source": [
    "ssh -t  $JUPYTERHUB_USER@arvine \"kubectl create -f sql-mapr/create-mssql-secret-$JUPYTERHUB_USER.yaml -n mapr-$JUPYTERHUB_USER\""
   ]
  },
  {
   "cell_type": "markdown",
   "metadata": {},
   "source": [
    "<div class=\"alert\" style=\"background-color:#FFAD33;color:#fff;\" role=\"alert\">\n",
    "  \n",
    "  <p><i class=\"fas fa-user-secret\"></i>&nbsp;&nbsp;You should now see the sqlsecret-secret</p>\n",
    "    \n",
    " \n",
    "</div>"
   ]
  },
  {
   "cell_type": "code",
   "execution_count": null,
   "metadata": {},
   "outputs": [],
   "source": [
    "ssh -t  $JUPYTERHUB_USER@arvine \"kubectl  get secret/sqlsecret-$JUPYTERHUB_USER -n mapr-$JUPYTERHUB_USER\""
   ]
  },
  {
   "cell_type": "markdown",
   "metadata": {},
   "source": [
    "<i class=\"fas fa-2x fa-info-circle\" style=\"color:#FFAD33;\"></i>\n",
    "> SQL Server 2019 containers makes it easier and simpler to work with data, and monthly preview releases offer the latest innovation and improvements.SQL Server 2019 containers safer by starting the SQL Server process as a non-root user by default.</br>\n",
    "\n",
    "> The application process within most Docker containers is running as a root user meaning the process has root privileges within the container user space. The root user within the container is also the same root (uid 0) on the host machine, and if the user can break out of the container, they would have root permissions on the host. Running as root is convenient for development, testing and CI/CD use cases but for production use cases, it is safest to run SQL Server as a non-root process within the container </br>\n",
    "\n",
    "> You must therefore create a \"user and group\" <b>mssql</b> with home directory <b>/var/opt/mssql</b> on each node of the cluster.\n",
    "In our configuration the user and the group <b>mssql</b> are already created on each node"
   ]
  },
  {
   "cell_type": "markdown",
   "metadata": {},
   "source": [
    "\n",
    "##### In our example we will create a deployment file for SQL Server 2019 with the main following parameters : \n",
    "<table class=\"table\" style=\"font-size: 14px;\">\n",
    "  <tbody>\n",
    "    <tr>\n",
    "        <td style=\"width:40%\"><b>Deployment / name :</b> </td> <td>Deployment  Name</td>\n",
    "    </tr>\n",
    "      <tr>\n",
    "        <td style=\"width:40%\"><b>secretKeyRef / runAsUser :</b> </td> <td>ID for mssql user</td>\n",
    "    </tr>\n",
    "      <tr>\n",
    "        <td style=\"width:40%\"><b>secretKeyRef / fsGroup :</b> </td> <td>ID for mssql group</td>\n",
    "    </tr>\n",
    "      <tr>\n",
    "        <td style=\"width:40%\"><b>image :</b></td><td>SQL Server Docker image to use</td>\n",
    "    </tr>\n",
    "    <tr>\n",
    "        <td style=\"width:40%\"><b>claimName :</b></td><td>Name of PVC to use</td>\n",
    "    </tr>\n",
    "      <tr>\n",
    "        <td style=\"width:40%\"><b>MSSQL_PID :</b></td><td>Developer: Sets the container to run SQL Server Developer edition. Developer edition is not licensed for production data. If the deployment is for production use, set the appropriate edition (Enterprise, Standard, or Express).</td>\n",
    "    </tr>\n",
    "    <tr>\n",
    "        <td style=\"width:40%\"><b>Service / name :</b></td><td>Service Name : mssql-service-student4</td>\n",
    "    </tr>\n",
    " </tbody>\n",
    "</table>  \n",
    "<div class=\"alert\" style=\"background-color:#FFAD33;color:#fff;\" role=\"alert\">\n",
    "  \n",
    "  <p><i class=\"fas fa-file-export\"></i>&nbsp;&nbsp;Deployement file example : deploy-mssql-s.yaml</p>\n",
    " \n",
    "</div>"
   ]
  },
  {
   "cell_type": "raw",
   "metadata": {},
   "source": [
    "apiVersion: apps/v1\n",
    "kind: Deployment\n",
    "metadata:\n",
    "  name: mssql-deployment-student4\n",
    "spec:\n",
    "  replicas: 1\n",
    "  selector:\n",
    "    matchLabels:\n",
    "     app: mssql\n",
    "  strategy:\n",
    "    type: Recreate\n",
    "  template:\n",
    "    metadata:\n",
    "      labels:\n",
    "        app: mssql\n",
    "    spec:\n",
    "      terminationGracePeriodSeconds: 10\n",
    "      securityContext:\n",
    "          runAsUser: 10001 \n",
    "          fsGroup: 0\n",
    "      containers:\n",
    "      - name: mssql\n",
    "        image: mcr.microsoft.com/mssql/rhel/server:2019-latest \n",
    "        ports:\n",
    "        - containerPort: 1433\n",
    "        env:\n",
    "        - name: MSSQL_PID\n",
    "          value: \"Developer\"\n",
    "        - name: ACCEPT_EULA\n",
    "          value: \"Y\"\n",
    "        - name: SA_PASSWORD\n",
    "          valueFrom:\n",
    "            secretKeyRef:\n",
    "              name: sqlsecret-student4\n",
    "              key: sapassword\n",
    "        volumeMounts:\n",
    "        - name: mssqldb\n",
    "          mountPath: /var/opt/mssql/data\n",
    "      restartPolicy: Always   \n",
    "      volumes:\n",
    "      - name: mssqldb\n",
    "        persistentVolumeClaim:\n",
    "          claimName: mapr-sqlserver-data01-student4\n",
    "---\n",
    "apiVersion: v1\n",
    "kind: Service\n",
    "metadata:\n",
    "  name: mssql-service-student4\n",
    "spec:\n",
    "  selector:\n",
    "    app: mssql\n",
    "  ports:\n",
    "    - protocol: TCP\n",
    "      port: 1433\n",
    "      targetPort: 1433\n",
    "  type: NodePort"
   ]
  },
  {
   "cell_type": "markdown",
   "metadata": {},
   "source": [
    "<div class=\"alert\" style=\"background-color:#FFAD33;color:#fff;\" role=\"alert\">\n",
    "  <p class=\"mb-0\"><i class=\"fas fa-sync-alt\"></i>&nbsp;&nbsp;Run the command in the next Cell with button <i class=\"fas fa-play\"></i> </p>\n",
    "   <hr>\n",
    "  <p class=\"mb-0\">Or connect to the hosts 'bandol' using the terminal at the bottom of the window</p>\n",
    " \n",
    "</div>"
   ]
  },
  {
   "cell_type": "code",
   "execution_count": null,
   "metadata": {},
   "outputs": [],
   "source": [
    "ssh -t  $JUPYTERHUB_USER@arvine \"kubectl create -f sql-mapr/deploy-mssql-s-$JUPYTERHUB_USER.yaml -n mapr-$JUPYTERHUB_USER\""
   ]
  },
  {
   "cell_type": "markdown",
   "metadata": {},
   "source": [
    "The deployment and service are created. The SQL Server instance is in a container, connected to persistent storage.\n",
    "<div class=\"alert\" style=\"background-color:#FFAD33;color:#fff;\" role=\"alert\">\n",
    "  \n",
    "  <p><i class=\"fas fa-check-circle\"></i>&nbsp;&nbsp;To view the status of the pod</p>\n",
    "    <hr>\n",
    "    <p class=\"mb-0\"><i class=\"fas fa-sync-alt\"></i>&nbsp;&nbsp;Run the command in the next Cell with button <i class=\"fas fa-play\"></i> </p>\n",
    " \n",
    "</div>"
   ]
  },
  {
   "cell_type": "code",
   "execution_count": null,
   "metadata": {},
   "outputs": [],
   "source": [
    "ssh -t  $JUPYTERHUB_USER@arvine \"kubectl  get pods -n mapr-$JUPYTERHUB_USER\""
   ]
  },
  {
   "cell_type": "markdown",
   "metadata": {},
   "source": [
    "In the preceding result Cell , the pod has a status of Running. This status indicates that the container is ready. This may take several minutes.</br>\n",
    "<i class=\"fas fa-2x fa-info-circle\" style=\"color:#FFAD33;\"></i>\n",
    "> After the deployment is created, it can take a few minutes before the pod is visible. The delay is because the cluster pulls the mssql-server-linux image from the Docker hub. After the image is pulled the first time, subsequent deployments might be faster if the deployment is to a node that already has the image cached on it.</br></br>\n",
    "\n",
    "<div class=\"alert\" style=\"background-color:#FFAD33;color:#fff;\" role=\"alert\">\n",
    "    <p><i class=\"fas fa-check-circle\"></i>&nbsp;&nbsp;Verify the service is running : the name of SQL Service is <b><i>mssql-service-studentxx</i></b></p>\n",
    "    <hr>\n",
    "    <p class=\"mb-0\"><i class=\"fas fa-sync-alt\"></i>&nbsp;&nbsp;Run the command in the next Cell with button <i class=\"fas fa-play\"></i></p>\n",
    " \n",
    "</div>"
   ]
  },
  {
   "cell_type": "code",
   "execution_count": null,
   "metadata": {},
   "outputs": [],
   "source": [
    "ssh -t $JUPYTERHUB_USER@arvine \"kubectl  get services -n mapr-$JUPYTERHUB_USER\""
   ]
  },
  {
   "cell_type": "markdown",
   "metadata": {},
   "source": [
    "### Connect to the SQL Server "
   ]
  },
  {
   "cell_type": "markdown",
   "metadata": {},
   "source": [
    "Now you can connect to the SQL Server instance outside the Kubernetes cluster with the following tools:\n",
    "<ul class=\"list-group\">\n",
    "  <li class=\"list-group-item\"><i class=\"fas fa-tasks\" style=\"color:#FFAD33;\"></i>&nbsp;&nbsp;SSMS</li>\n",
    "  <li class=\"list-group-item\"><i class=\"fas fa-database\" style=\"color:#FFAD33;\"></i>&nbsp;&nbsp;Azure Data Studio</li>\n",
    "  <li class=\"list-group-item\"><i class=\"fas fa-terminal\" style=\"color:#FFAD33;\"></i>&nbsp;&nbsp;sqlcmd</li>\n",
    "  <li class=\"list-group-item\"> <i class=\"fas fa-tools\" style=\"color:#FFAD33;\"></i>&nbsp;&nbsp;Other tools ...</li>\n",
    "</ul>\n",
    "<i class=\"fas fa-2x fa-hand-point-right\" style=\"color:#FFAD33;\"></i>&nbsp;&nbsp;For the connection you use the ip address of one of the nodes of the Kubernetes cluster with TCP port number.</br>\n",
    "In this example the port is <b>30418</b>\n",
    "\n"
   ]
  },
  {
   "cell_type": "raw",
   "metadata": {},
   "source": [
    "NAME                     TYPE       CLUSTER-IP    EXTERNAL-IP   PORT(S)          AGE\n",
    "mssql-service-student4   NodePort   10.99.3.155   <none>        1433:30418/TCP   122m"
   ]
  },
  {
   "cell_type": "markdown",
   "metadata": {},
   "source": [
    "\n",
    "<ul class=\"list-group\">\n",
    "    <li class=\"list-group-item\"><i class=\"fas fa-server\" style=\"color:#FFAD33;\"></i>&nbsp;&nbsp;arvine \n",
    "    <li class=\"list-group-item\"><i class=\"fas fa-server\" style=\"color:#FFAD33;\"></i>&nbsp;&nbsp;garanoir\n",
    "    <li class=\"list-group-item\"><i class=\"fas fa-server\" style=\"color:#FFAD33;\"></i>&nbsp;&nbsp;gamaret\n",
    "    <li class=\"list-group-item\"><i class=\"fas fa-server\" style=\"color:#FFAD33;\"></i>&nbsp;&nbsp;syrah   \n",
    "</ul>\n",
    "<div class=\"alert\" style=\"background-color:#FFAD33;color:#fff;\" role=\"alert\">\n",
    "  \n",
    "  <p><i class=\"fas fa-plug\"></i>&nbsp;&nbsp;Connect to the SQL Server instance with sqlcmd tool. But you can use another tool like SSMS, Azure Data Studio ....</p>\n",
    "  <p class=\"mb-0\">set <b><i>HOST_NAME</i></b> with your hosts IP Address value and TCP Port in next Cell with button <i class=\"fas fa-play\"></i> : export HOST_NAME=Your_value</p>  \n",
    "   <hr>\n",
    "    <p class=\"mb-0\"><i class=\"fas fa-sync-alt\"></i>&nbsp;&nbsp;Run the commands in the next Cell with button <i class=\"fas fa-play\"></i> </p>\n",
    " \n",
    "</div>"
   ]
  },
  {
   "cell_type": "code",
   "execution_count": null,
   "metadata": {},
   "outputs": [],
   "source": [
    "export HOST_NAME=\"arvine,30351\""
   ]
  },
  {
   "cell_type": "code",
   "execution_count": null,
   "metadata": {},
   "outputs": [],
   "source": [
    "ssh -t $JUPYTERHUB_USER@arvine \"/opt/mssql-tools/bin/sqlcmd -U sa -P HPeinvent@ -S $HOST_NAME -i sql-mapr/getversion.sql\""
   ]
  },
  {
   "cell_type": "markdown",
   "metadata": {},
   "source": [
    "</br></br>\n",
    "<div class=\"alert\" style=\"background-color:#FFAD33;color:#fff;width:100%\" role=\"alert\">\n",
    "  <p style=\"font-size:20px;display: block;text-align:center;margin-left: auto;margin-right: auto;\"><i class=\"fas fa-4x fa-smile\"></i>&nbsp;&nbsp;Congratulations on completing the module&nbsp;&nbsp;<i class=\"fas fa-4x fa-praying-hands\"></i></p>\n",
    "</div>  "
   ]
  },
  {
   "cell_type": "markdown",
   "metadata": {},
   "source": [
    "<br><br>\n",
    "\n",
    "## <i class=\"fas fa-2x fa-map-marker-alt\" style=\"color:#FFAD33;\"></i>&nbsp;&nbsp;Next Steps\n",
    "\n",
    "Restore SQL Server Database"
   ]
  },
  {
   "cell_type": "markdown",
   "metadata": {},
   "source": [
    "\n",
    " <a href=\"HPEMAPR-SQL-DB.ipynb#restore\" target=\"New\" title=\"Next: Restore Database\"><button type=\"submit\"  class=\"btn btn-lg btn-block\" style=\"background-color:#FFAD33;color:#fff;position:relative;width:10%; height: 30px;float: right;\"><b>Next</b></button></a>\n",
    " <a href=\"HPEMAPR-SQL-PVC.ipynb#pvc\" target=\"New\" title=\"Back: Create Persitent Volume\"><button type=\"submit\"  class=\"btn btn-lg btn-block\" style=\"background-color:#FFAD33;color:#fff;position:relative;width:10%; height: 30px;float: left;\"><b>Back</b></button></a>"
   ]
  },
  {
   "cell_type": "markdown",
   "metadata": {},
   "source": [
    "<p style=\"display: block;margin-left: auto;margin-right: auto;width:10%;\" ><a href=\"#sqld\" title=\"TOP\"><i class=\"fas fa-2x fa-chevron-circle-up\" style=\"color:#FFAD33;\"></i></a></p>"
   ]
  },
  {
   "cell_type": "code",
   "execution_count": null,
   "metadata": {},
   "outputs": [],
   "source": []
  }
 ],
 "metadata": {
  "kernelspec": {
   "display_name": "Bash",
   "language": "bash",
   "name": "bash"
  },
  "language_info": {
   "codemirror_mode": "shell",
   "file_extension": ".sh",
   "mimetype": "text/x-sh",
   "name": "bash"
  }
 },
 "nbformat": 4,
 "nbformat_minor": 4
}
